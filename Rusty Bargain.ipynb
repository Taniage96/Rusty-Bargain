{
 "cells": [
  {
   "cell_type": "markdown",
   "metadata": {},
   "source": [
    "Used car sales service Rusty Bargain is developing an app to attract new customers. Thanks to this app, you can quickly find out the market value of your car. You have access to the history: technical specifications, equipment versions and prices. You have to create a model that determines the market value.\n",
    "Rusty Bargain is interested in:\n",
    "-the quality of the prediction;\n",
    "-the speed of prediction;\n",
    "-the time required for training"
   ]
  },
  {
   "cell_type": "markdown",
   "metadata": {},
   "source": [
    "##library import"
   ]
  },
  {
   "cell_type": "code",
   "execution_count": 2,
   "metadata": {},
   "outputs": [],
   "source": [
    "import numpy as np\n",
    "import pandas as pd\n",
    "import math\n",
    "import time\n",
    "import matplotlib.pyplot as plt\n",
    "import sklearn.linear_model\n",
    "import sklearn.metrics\n",
    "import sklearn.neighbors\n",
    "import sklearn.preprocessing\n",
    "import lightgbm as lgb\n",
    "import xgboost as xgb\n",
    "from sklearn.preprocessing import LabelEncoder\n",
    "from sklearn.model_selection import GridSearchCV\n",
    "from sklearn.model_selection import train_test_split\n",
    "from sklearn.ensemble import RandomForestRegressor\n",
    "from sklearn.linear_model import LogisticRegression\n",
    "from sklearn.tree import DecisionTreeClassifier\n",
    "from sklearn.neighbors import NearestNeighbors\n",
    "from sklearn.neighbors import KNeighborsClassifier\n",
    "from sklearn.linear_model import LinearRegression\n",
    "from sklearn.metrics import mean_squared_error, r2_score \n",
    "from sklearn.preprocessing import StandardScaler\n",
    "from sklearn.metrics import f1_score, confusion_matrix\n",
    "from sklearn.preprocessing import MaxAbsScaler\n",
    "from IPython.display import display\n",
    "from catboost import CatBoostRegressor\n",
    "from sklearn.metrics import roc_auc_score"
   ]
  },
  {
   "cell_type": "markdown",
   "metadata": {},
   "source": [
    "## Data preparation"
   ]
  },
  {
   "cell_type": "code",
   "execution_count": 3,
   "metadata": {},
   "outputs": [],
   "source": [
    "#import data\n",
    "df = pd.read_csv('car_data.csv')"
   ]
  },
  {
   "cell_type": "code",
   "execution_count": 4,
   "metadata": {},
   "outputs": [
    {
     "data": {
      "text/html": [
       "<div>\n",
       "<style scoped>\n",
       "    .dataframe tbody tr th:only-of-type {\n",
       "        vertical-align: middle;\n",
       "    }\n",
       "\n",
       "    .dataframe tbody tr th {\n",
       "        vertical-align: top;\n",
       "    }\n",
       "\n",
       "    .dataframe thead th {\n",
       "        text-align: right;\n",
       "    }\n",
       "</style>\n",
       "<table border=\"1\" class=\"dataframe\">\n",
       "  <thead>\n",
       "    <tr style=\"text-align: right;\">\n",
       "      <th></th>\n",
       "      <th>DateCrawled</th>\n",
       "      <th>Price</th>\n",
       "      <th>VehicleType</th>\n",
       "      <th>RegistrationYear</th>\n",
       "      <th>Gearbox</th>\n",
       "      <th>Power</th>\n",
       "      <th>Model</th>\n",
       "      <th>Mileage</th>\n",
       "      <th>RegistrationMonth</th>\n",
       "      <th>FuelType</th>\n",
       "      <th>Brand</th>\n",
       "      <th>NotRepaired</th>\n",
       "      <th>DateCreated</th>\n",
       "      <th>NumberOfPictures</th>\n",
       "      <th>PostalCode</th>\n",
       "      <th>LastSeen</th>\n",
       "    </tr>\n",
       "  </thead>\n",
       "  <tbody>\n",
       "    <tr>\n",
       "      <th>0</th>\n",
       "      <td>24/03/2016 11:52</td>\n",
       "      <td>480</td>\n",
       "      <td>NaN</td>\n",
       "      <td>1993</td>\n",
       "      <td>manual</td>\n",
       "      <td>0</td>\n",
       "      <td>golf</td>\n",
       "      <td>150000</td>\n",
       "      <td>0</td>\n",
       "      <td>petrol</td>\n",
       "      <td>volkswagen</td>\n",
       "      <td>NaN</td>\n",
       "      <td>24/03/2016 00:00</td>\n",
       "      <td>0</td>\n",
       "      <td>70435</td>\n",
       "      <td>07/04/2016 03:16</td>\n",
       "    </tr>\n",
       "    <tr>\n",
       "      <th>1</th>\n",
       "      <td>24/03/2016 10:58</td>\n",
       "      <td>18300</td>\n",
       "      <td>coupe</td>\n",
       "      <td>2011</td>\n",
       "      <td>manual</td>\n",
       "      <td>190</td>\n",
       "      <td>NaN</td>\n",
       "      <td>125000</td>\n",
       "      <td>5</td>\n",
       "      <td>gasoline</td>\n",
       "      <td>audi</td>\n",
       "      <td>yes</td>\n",
       "      <td>24/03/2016 00:00</td>\n",
       "      <td>0</td>\n",
       "      <td>66954</td>\n",
       "      <td>07/04/2016 01:46</td>\n",
       "    </tr>\n",
       "    <tr>\n",
       "      <th>2</th>\n",
       "      <td>14/03/2016 12:52</td>\n",
       "      <td>9800</td>\n",
       "      <td>suv</td>\n",
       "      <td>2004</td>\n",
       "      <td>auto</td>\n",
       "      <td>163</td>\n",
       "      <td>grand</td>\n",
       "      <td>125000</td>\n",
       "      <td>8</td>\n",
       "      <td>gasoline</td>\n",
       "      <td>jeep</td>\n",
       "      <td>NaN</td>\n",
       "      <td>14/03/2016 00:00</td>\n",
       "      <td>0</td>\n",
       "      <td>90480</td>\n",
       "      <td>05/04/2016 12:47</td>\n",
       "    </tr>\n",
       "    <tr>\n",
       "      <th>3</th>\n",
       "      <td>17/03/2016 16:54</td>\n",
       "      <td>1500</td>\n",
       "      <td>small</td>\n",
       "      <td>2001</td>\n",
       "      <td>manual</td>\n",
       "      <td>75</td>\n",
       "      <td>golf</td>\n",
       "      <td>150000</td>\n",
       "      <td>6</td>\n",
       "      <td>petrol</td>\n",
       "      <td>volkswagen</td>\n",
       "      <td>no</td>\n",
       "      <td>17/03/2016 00:00</td>\n",
       "      <td>0</td>\n",
       "      <td>91074</td>\n",
       "      <td>17/03/2016 17:40</td>\n",
       "    </tr>\n",
       "    <tr>\n",
       "      <th>4</th>\n",
       "      <td>31/03/2016 17:25</td>\n",
       "      <td>3600</td>\n",
       "      <td>small</td>\n",
       "      <td>2008</td>\n",
       "      <td>manual</td>\n",
       "      <td>69</td>\n",
       "      <td>fabia</td>\n",
       "      <td>90000</td>\n",
       "      <td>7</td>\n",
       "      <td>gasoline</td>\n",
       "      <td>skoda</td>\n",
       "      <td>no</td>\n",
       "      <td>31/03/2016 00:00</td>\n",
       "      <td>0</td>\n",
       "      <td>60437</td>\n",
       "      <td>06/04/2016 10:17</td>\n",
       "    </tr>\n",
       "  </tbody>\n",
       "</table>\n",
       "</div>"
      ],
      "text/plain": [
       "        DateCrawled  Price VehicleType  RegistrationYear Gearbox  Power  \\\n",
       "0  24/03/2016 11:52    480         NaN              1993  manual      0   \n",
       "1  24/03/2016 10:58  18300       coupe              2011  manual    190   \n",
       "2  14/03/2016 12:52   9800         suv              2004    auto    163   \n",
       "3  17/03/2016 16:54   1500       small              2001  manual     75   \n",
       "4  31/03/2016 17:25   3600       small              2008  manual     69   \n",
       "\n",
       "   Model  Mileage  RegistrationMonth  FuelType       Brand NotRepaired  \\\n",
       "0   golf   150000                  0    petrol  volkswagen         NaN   \n",
       "1    NaN   125000                  5  gasoline        audi         yes   \n",
       "2  grand   125000                  8  gasoline        jeep         NaN   \n",
       "3   golf   150000                  6    petrol  volkswagen          no   \n",
       "4  fabia    90000                  7  gasoline       skoda          no   \n",
       "\n",
       "        DateCreated  NumberOfPictures  PostalCode          LastSeen  \n",
       "0  24/03/2016 00:00                 0       70435  07/04/2016 03:16  \n",
       "1  24/03/2016 00:00                 0       66954  07/04/2016 01:46  \n",
       "2  14/03/2016 00:00                 0       90480  05/04/2016 12:47  \n",
       "3  17/03/2016 00:00                 0       91074  17/03/2016 17:40  \n",
       "4  31/03/2016 00:00                 0       60437  06/04/2016 10:17  "
      ]
     },
     "execution_count": 4,
     "metadata": {},
     "output_type": "execute_result"
    }
   ],
   "source": [
    "#Explore data\n",
    "df.head()"
   ]
  },
  {
   "cell_type": "code",
   "execution_count": 5,
   "metadata": {},
   "outputs": [
    {
     "data": {
      "text/html": [
       "<div>\n",
       "<style scoped>\n",
       "    .dataframe tbody tr th:only-of-type {\n",
       "        vertical-align: middle;\n",
       "    }\n",
       "\n",
       "    .dataframe tbody tr th {\n",
       "        vertical-align: top;\n",
       "    }\n",
       "\n",
       "    .dataframe thead th {\n",
       "        text-align: right;\n",
       "    }\n",
       "</style>\n",
       "<table border=\"1\" class=\"dataframe\">\n",
       "  <thead>\n",
       "    <tr style=\"text-align: right;\">\n",
       "      <th></th>\n",
       "      <th>Price</th>\n",
       "      <th>RegistrationYear</th>\n",
       "      <th>Power</th>\n",
       "      <th>Mileage</th>\n",
       "      <th>RegistrationMonth</th>\n",
       "      <th>NumberOfPictures</th>\n",
       "      <th>PostalCode</th>\n",
       "    </tr>\n",
       "  </thead>\n",
       "  <tbody>\n",
       "    <tr>\n",
       "      <th>count</th>\n",
       "      <td>354369.000000</td>\n",
       "      <td>354369.000000</td>\n",
       "      <td>354369.000000</td>\n",
       "      <td>354369.000000</td>\n",
       "      <td>354369.000000</td>\n",
       "      <td>354369.0</td>\n",
       "      <td>354369.000000</td>\n",
       "    </tr>\n",
       "    <tr>\n",
       "      <th>mean</th>\n",
       "      <td>4416.656776</td>\n",
       "      <td>2004.234448</td>\n",
       "      <td>110.094337</td>\n",
       "      <td>128211.172535</td>\n",
       "      <td>5.714645</td>\n",
       "      <td>0.0</td>\n",
       "      <td>50508.689087</td>\n",
       "    </tr>\n",
       "    <tr>\n",
       "      <th>std</th>\n",
       "      <td>4514.158514</td>\n",
       "      <td>90.227958</td>\n",
       "      <td>189.850405</td>\n",
       "      <td>37905.341530</td>\n",
       "      <td>3.726421</td>\n",
       "      <td>0.0</td>\n",
       "      <td>25783.096248</td>\n",
       "    </tr>\n",
       "    <tr>\n",
       "      <th>min</th>\n",
       "      <td>0.000000</td>\n",
       "      <td>1000.000000</td>\n",
       "      <td>0.000000</td>\n",
       "      <td>5000.000000</td>\n",
       "      <td>0.000000</td>\n",
       "      <td>0.0</td>\n",
       "      <td>1067.000000</td>\n",
       "    </tr>\n",
       "    <tr>\n",
       "      <th>25%</th>\n",
       "      <td>1050.000000</td>\n",
       "      <td>1999.000000</td>\n",
       "      <td>69.000000</td>\n",
       "      <td>125000.000000</td>\n",
       "      <td>3.000000</td>\n",
       "      <td>0.0</td>\n",
       "      <td>30165.000000</td>\n",
       "    </tr>\n",
       "    <tr>\n",
       "      <th>50%</th>\n",
       "      <td>2700.000000</td>\n",
       "      <td>2003.000000</td>\n",
       "      <td>105.000000</td>\n",
       "      <td>150000.000000</td>\n",
       "      <td>6.000000</td>\n",
       "      <td>0.0</td>\n",
       "      <td>49413.000000</td>\n",
       "    </tr>\n",
       "    <tr>\n",
       "      <th>75%</th>\n",
       "      <td>6400.000000</td>\n",
       "      <td>2008.000000</td>\n",
       "      <td>143.000000</td>\n",
       "      <td>150000.000000</td>\n",
       "      <td>9.000000</td>\n",
       "      <td>0.0</td>\n",
       "      <td>71083.000000</td>\n",
       "    </tr>\n",
       "    <tr>\n",
       "      <th>max</th>\n",
       "      <td>20000.000000</td>\n",
       "      <td>9999.000000</td>\n",
       "      <td>20000.000000</td>\n",
       "      <td>150000.000000</td>\n",
       "      <td>12.000000</td>\n",
       "      <td>0.0</td>\n",
       "      <td>99998.000000</td>\n",
       "    </tr>\n",
       "  </tbody>\n",
       "</table>\n",
       "</div>"
      ],
      "text/plain": [
       "               Price  RegistrationYear          Power        Mileage  \\\n",
       "count  354369.000000     354369.000000  354369.000000  354369.000000   \n",
       "mean     4416.656776       2004.234448     110.094337  128211.172535   \n",
       "std      4514.158514         90.227958     189.850405   37905.341530   \n",
       "min         0.000000       1000.000000       0.000000    5000.000000   \n",
       "25%      1050.000000       1999.000000      69.000000  125000.000000   \n",
       "50%      2700.000000       2003.000000     105.000000  150000.000000   \n",
       "75%      6400.000000       2008.000000     143.000000  150000.000000   \n",
       "max     20000.000000       9999.000000   20000.000000  150000.000000   \n",
       "\n",
       "       RegistrationMonth  NumberOfPictures     PostalCode  \n",
       "count      354369.000000          354369.0  354369.000000  \n",
       "mean            5.714645               0.0   50508.689087  \n",
       "std             3.726421               0.0   25783.096248  \n",
       "min             0.000000               0.0    1067.000000  \n",
       "25%             3.000000               0.0   30165.000000  \n",
       "50%             6.000000               0.0   49413.000000  \n",
       "75%             9.000000               0.0   71083.000000  \n",
       "max            12.000000               0.0   99998.000000  "
      ]
     },
     "execution_count": 5,
     "metadata": {},
     "output_type": "execute_result"
    }
   ],
   "source": [
    "#Show the descriptive statistics of the data.\n",
    "df.describe()"
   ]
  },
  {
   "cell_type": "code",
   "execution_count": 6,
   "metadata": {},
   "outputs": [
    {
     "name": "stdout",
     "output_type": "stream",
     "text": [
      "<class 'pandas.core.frame.DataFrame'>\n",
      "RangeIndex: 354369 entries, 0 to 354368\n",
      "Data columns (total 16 columns):\n",
      " #   Column             Non-Null Count   Dtype \n",
      "---  ------             --------------   ----- \n",
      " 0   DateCrawled        354369 non-null  object\n",
      " 1   Price              354369 non-null  int64 \n",
      " 2   VehicleType        316879 non-null  object\n",
      " 3   RegistrationYear   354369 non-null  int64 \n",
      " 4   Gearbox            334536 non-null  object\n",
      " 5   Power              354369 non-null  int64 \n",
      " 6   Model              334664 non-null  object\n",
      " 7   Mileage            354369 non-null  int64 \n",
      " 8   RegistrationMonth  354369 non-null  int64 \n",
      " 9   FuelType           321474 non-null  object\n",
      " 10  Brand              354369 non-null  object\n",
      " 11  NotRepaired        283215 non-null  object\n",
      " 12  DateCreated        354369 non-null  object\n",
      " 13  NumberOfPictures   354369 non-null  int64 \n",
      " 14  PostalCode         354369 non-null  int64 \n",
      " 15  LastSeen           354369 non-null  object\n",
      "dtypes: int64(7), object(9)\n",
      "memory usage: 43.3+ MB\n"
     ]
    }
   ],
   "source": [
    "#check that the conversion was successful\n",
    "df.info()"
   ]
  },
  {
   "cell_type": "code",
   "execution_count": null,
   "metadata": {},
   "outputs": [],
   "source": [
    "#correction of null values\n",
    "df['VehicleType'].fillna('Desconocido', inplace=True)\n",
    "df['Gearbox'].fillna('Desconocido', inplace=True)\n",
    "df['Model'].fillna('Desconocido', inplace=True)\n",
    "df['FuelType'].fillna('Desconocido', inplace=True)\n",
    "df['NotRepaired'].fillna('Desconocido', inplace=True)"
   ]
  },
  {
   "cell_type": "code",
   "execution_count": 8,
   "metadata": {},
   "outputs": [
    {
     "name": "stdout",
     "output_type": "stream",
     "text": [
      "<class 'pandas.core.frame.DataFrame'>\n",
      "RangeIndex: 354369 entries, 0 to 354368\n",
      "Data columns (total 16 columns):\n",
      " #   Column             Non-Null Count   Dtype \n",
      "---  ------             --------------   ----- \n",
      " 0   DateCrawled        354369 non-null  object\n",
      " 1   Price              354369 non-null  int64 \n",
      " 2   VehicleType        354369 non-null  object\n",
      " 3   RegistrationYear   354369 non-null  int64 \n",
      " 4   Gearbox            354369 non-null  object\n",
      " 5   Power              354369 non-null  int64 \n",
      " 6   Model              354369 non-null  object\n",
      " 7   Mileage            354369 non-null  int64 \n",
      " 8   RegistrationMonth  354369 non-null  int64 \n",
      " 9   FuelType           354369 non-null  object\n",
      " 10  Brand              354369 non-null  object\n",
      " 11  NotRepaired        354369 non-null  object\n",
      " 12  DateCreated        354369 non-null  object\n",
      " 13  NumberOfPictures   354369 non-null  int64 \n",
      " 14  PostalCode         354369 non-null  int64 \n",
      " 15  LastSeen           354369 non-null  object\n",
      "dtypes: int64(7), object(9)\n",
      "memory usage: 43.3+ MB\n"
     ]
    }
   ],
   "source": [
    "#correction validation\n",
    "df.info()"
   ]
  },
  {
   "cell_type": "code",
   "execution_count": 9,
   "metadata": {},
   "outputs": [
    {
     "data": {
      "text/plain": [
       "262"
      ]
     },
     "execution_count": 9,
     "metadata": {},
     "output_type": "execute_result"
    }
   ],
   "source": [
    "#duplicate validation\n",
    "df.duplicated().sum()"
   ]
  },
  {
   "cell_type": "code",
   "execution_count": 10,
   "metadata": {},
   "outputs": [
    {
     "data": {
      "text/html": [
       "<div>\n",
       "<style scoped>\n",
       "    .dataframe tbody tr th:only-of-type {\n",
       "        vertical-align: middle;\n",
       "    }\n",
       "\n",
       "    .dataframe tbody tr th {\n",
       "        vertical-align: top;\n",
       "    }\n",
       "\n",
       "    .dataframe thead th {\n",
       "        text-align: right;\n",
       "    }\n",
       "</style>\n",
       "<table border=\"1\" class=\"dataframe\">\n",
       "  <thead>\n",
       "    <tr style=\"text-align: right;\">\n",
       "      <th></th>\n",
       "      <th>DateCrawled</th>\n",
       "      <th>Price</th>\n",
       "      <th>VehicleType</th>\n",
       "      <th>RegistrationYear</th>\n",
       "      <th>Gearbox</th>\n",
       "      <th>Power</th>\n",
       "      <th>Model</th>\n",
       "      <th>Mileage</th>\n",
       "      <th>RegistrationMonth</th>\n",
       "      <th>FuelType</th>\n",
       "      <th>Brand</th>\n",
       "      <th>NotRepaired</th>\n",
       "      <th>DateCreated</th>\n",
       "      <th>NumberOfPictures</th>\n",
       "      <th>PostalCode</th>\n",
       "      <th>LastSeen</th>\n",
       "    </tr>\n",
       "  </thead>\n",
       "  <tbody>\n",
       "    <tr>\n",
       "      <th>14266</th>\n",
       "      <td>21/03/2016 19:06</td>\n",
       "      <td>5999</td>\n",
       "      <td>small</td>\n",
       "      <td>2009</td>\n",
       "      <td>manual</td>\n",
       "      <td>80</td>\n",
       "      <td>polo</td>\n",
       "      <td>125000</td>\n",
       "      <td>5</td>\n",
       "      <td>petrol</td>\n",
       "      <td>volkswagen</td>\n",
       "      <td>no</td>\n",
       "      <td>21/03/2016 00:00</td>\n",
       "      <td>0</td>\n",
       "      <td>65529</td>\n",
       "      <td>05/04/2016 20:47</td>\n",
       "    </tr>\n",
       "    <tr>\n",
       "      <th>27568</th>\n",
       "      <td>23/03/2016 10:38</td>\n",
       "      <td>12200</td>\n",
       "      <td>bus</td>\n",
       "      <td>2011</td>\n",
       "      <td>manual</td>\n",
       "      <td>125</td>\n",
       "      <td>zafira</td>\n",
       "      <td>40000</td>\n",
       "      <td>10</td>\n",
       "      <td>gasoline</td>\n",
       "      <td>opel</td>\n",
       "      <td>no</td>\n",
       "      <td>23/03/2016 00:00</td>\n",
       "      <td>0</td>\n",
       "      <td>26629</td>\n",
       "      <td>05/04/2016 07:44</td>\n",
       "    </tr>\n",
       "    <tr>\n",
       "      <th>31599</th>\n",
       "      <td>03/04/2016 20:41</td>\n",
       "      <td>4950</td>\n",
       "      <td>wagon</td>\n",
       "      <td>2003</td>\n",
       "      <td>auto</td>\n",
       "      <td>170</td>\n",
       "      <td>e_klasse</td>\n",
       "      <td>150000</td>\n",
       "      <td>4</td>\n",
       "      <td>gasoline</td>\n",
       "      <td>mercedes_benz</td>\n",
       "      <td>no</td>\n",
       "      <td>03/04/2016 00:00</td>\n",
       "      <td>0</td>\n",
       "      <td>48432</td>\n",
       "      <td>05/04/2016 21:17</td>\n",
       "    </tr>\n",
       "    <tr>\n",
       "      <th>33138</th>\n",
       "      <td>07/03/2016 20:45</td>\n",
       "      <td>10900</td>\n",
       "      <td>convertible</td>\n",
       "      <td>2005</td>\n",
       "      <td>auto</td>\n",
       "      <td>163</td>\n",
       "      <td>clk</td>\n",
       "      <td>125000</td>\n",
       "      <td>5</td>\n",
       "      <td>petrol</td>\n",
       "      <td>mercedes_benz</td>\n",
       "      <td>no</td>\n",
       "      <td>07/03/2016 00:00</td>\n",
       "      <td>0</td>\n",
       "      <td>61200</td>\n",
       "      <td>21/03/2016 03:45</td>\n",
       "    </tr>\n",
       "    <tr>\n",
       "      <th>43656</th>\n",
       "      <td>13/03/2016 20:48</td>\n",
       "      <td>4200</td>\n",
       "      <td>sedan</td>\n",
       "      <td>2003</td>\n",
       "      <td>manual</td>\n",
       "      <td>105</td>\n",
       "      <td>golf</td>\n",
       "      <td>150000</td>\n",
       "      <td>10</td>\n",
       "      <td>gasoline</td>\n",
       "      <td>volkswagen</td>\n",
       "      <td>no</td>\n",
       "      <td>13/03/2016 00:00</td>\n",
       "      <td>0</td>\n",
       "      <td>14482</td>\n",
       "      <td>13/03/2016 20:48</td>\n",
       "    </tr>\n",
       "    <tr>\n",
       "      <th>...</th>\n",
       "      <td>...</td>\n",
       "      <td>...</td>\n",
       "      <td>...</td>\n",
       "      <td>...</td>\n",
       "      <td>...</td>\n",
       "      <td>...</td>\n",
       "      <td>...</td>\n",
       "      <td>...</td>\n",
       "      <td>...</td>\n",
       "      <td>...</td>\n",
       "      <td>...</td>\n",
       "      <td>...</td>\n",
       "      <td>...</td>\n",
       "      <td>...</td>\n",
       "      <td>...</td>\n",
       "      <td>...</td>\n",
       "    </tr>\n",
       "    <tr>\n",
       "      <th>349709</th>\n",
       "      <td>03/04/2016 20:52</td>\n",
       "      <td>700</td>\n",
       "      <td>small</td>\n",
       "      <td>1999</td>\n",
       "      <td>manual</td>\n",
       "      <td>60</td>\n",
       "      <td>ibiza</td>\n",
       "      <td>150000</td>\n",
       "      <td>12</td>\n",
       "      <td>petrol</td>\n",
       "      <td>seat</td>\n",
       "      <td>yes</td>\n",
       "      <td>03/04/2016 00:00</td>\n",
       "      <td>0</td>\n",
       "      <td>6268</td>\n",
       "      <td>05/04/2016 21:47</td>\n",
       "    </tr>\n",
       "    <tr>\n",
       "      <th>351555</th>\n",
       "      <td>26/03/2016 16:54</td>\n",
       "      <td>3150</td>\n",
       "      <td>bus</td>\n",
       "      <td>2003</td>\n",
       "      <td>manual</td>\n",
       "      <td>86</td>\n",
       "      <td>transit</td>\n",
       "      <td>150000</td>\n",
       "      <td>11</td>\n",
       "      <td>gasoline</td>\n",
       "      <td>ford</td>\n",
       "      <td>no</td>\n",
       "      <td>26/03/2016 00:00</td>\n",
       "      <td>0</td>\n",
       "      <td>96148</td>\n",
       "      <td>02/04/2016 07:47</td>\n",
       "    </tr>\n",
       "    <tr>\n",
       "      <th>352384</th>\n",
       "      <td>15/03/2016 21:54</td>\n",
       "      <td>5900</td>\n",
       "      <td>wagon</td>\n",
       "      <td>2006</td>\n",
       "      <td>manual</td>\n",
       "      <td>129</td>\n",
       "      <td>3er</td>\n",
       "      <td>150000</td>\n",
       "      <td>12</td>\n",
       "      <td>petrol</td>\n",
       "      <td>bmw</td>\n",
       "      <td>no</td>\n",
       "      <td>15/03/2016 00:00</td>\n",
       "      <td>0</td>\n",
       "      <td>92526</td>\n",
       "      <td>20/03/2016 21:17</td>\n",
       "    </tr>\n",
       "    <tr>\n",
       "      <th>353057</th>\n",
       "      <td>05/03/2016 14:16</td>\n",
       "      <td>9500</td>\n",
       "      <td>small</td>\n",
       "      <td>2013</td>\n",
       "      <td>manual</td>\n",
       "      <td>105</td>\n",
       "      <td>ibiza</td>\n",
       "      <td>40000</td>\n",
       "      <td>5</td>\n",
       "      <td>petrol</td>\n",
       "      <td>seat</td>\n",
       "      <td>no</td>\n",
       "      <td>04/03/2016 00:00</td>\n",
       "      <td>0</td>\n",
       "      <td>61381</td>\n",
       "      <td>05/04/2016 19:18</td>\n",
       "    </tr>\n",
       "    <tr>\n",
       "      <th>353727</th>\n",
       "      <td>20/03/2016 17:56</td>\n",
       "      <td>1</td>\n",
       "      <td>Desconocido</td>\n",
       "      <td>2000</td>\n",
       "      <td>Desconocido</td>\n",
       "      <td>0</td>\n",
       "      <td>Desconocido</td>\n",
       "      <td>150000</td>\n",
       "      <td>0</td>\n",
       "      <td>Desconocido</td>\n",
       "      <td>bmw</td>\n",
       "      <td>Desconocido</td>\n",
       "      <td>20/03/2016 00:00</td>\n",
       "      <td>0</td>\n",
       "      <td>42329</td>\n",
       "      <td>07/04/2016 00:46</td>\n",
       "    </tr>\n",
       "  </tbody>\n",
       "</table>\n",
       "<p>262 rows × 16 columns</p>\n",
       "</div>"
      ],
      "text/plain": [
       "             DateCrawled  Price  VehicleType  RegistrationYear      Gearbox  \\\n",
       "14266   21/03/2016 19:06   5999        small              2009       manual   \n",
       "27568   23/03/2016 10:38  12200          bus              2011       manual   \n",
       "31599   03/04/2016 20:41   4950        wagon              2003         auto   \n",
       "33138   07/03/2016 20:45  10900  convertible              2005         auto   \n",
       "43656   13/03/2016 20:48   4200        sedan              2003       manual   \n",
       "...                  ...    ...          ...               ...          ...   \n",
       "349709  03/04/2016 20:52    700        small              1999       manual   \n",
       "351555  26/03/2016 16:54   3150          bus              2003       manual   \n",
       "352384  15/03/2016 21:54   5900        wagon              2006       manual   \n",
       "353057  05/03/2016 14:16   9500        small              2013       manual   \n",
       "353727  20/03/2016 17:56      1  Desconocido              2000  Desconocido   \n",
       "\n",
       "        Power        Model  Mileage  RegistrationMonth     FuelType  \\\n",
       "14266      80         polo   125000                  5       petrol   \n",
       "27568     125       zafira    40000                 10     gasoline   \n",
       "31599     170     e_klasse   150000                  4     gasoline   \n",
       "33138     163          clk   125000                  5       petrol   \n",
       "43656     105         golf   150000                 10     gasoline   \n",
       "...       ...          ...      ...                ...          ...   \n",
       "349709     60        ibiza   150000                 12       petrol   \n",
       "351555     86      transit   150000                 11     gasoline   \n",
       "352384    129          3er   150000                 12       petrol   \n",
       "353057    105        ibiza    40000                  5       petrol   \n",
       "353727      0  Desconocido   150000                  0  Desconocido   \n",
       "\n",
       "                Brand  NotRepaired       DateCreated  NumberOfPictures  \\\n",
       "14266      volkswagen           no  21/03/2016 00:00                 0   \n",
       "27568            opel           no  23/03/2016 00:00                 0   \n",
       "31599   mercedes_benz           no  03/04/2016 00:00                 0   \n",
       "33138   mercedes_benz           no  07/03/2016 00:00                 0   \n",
       "43656      volkswagen           no  13/03/2016 00:00                 0   \n",
       "...               ...          ...               ...               ...   \n",
       "349709           seat          yes  03/04/2016 00:00                 0   \n",
       "351555           ford           no  26/03/2016 00:00                 0   \n",
       "352384            bmw           no  15/03/2016 00:00                 0   \n",
       "353057           seat           no  04/03/2016 00:00                 0   \n",
       "353727            bmw  Desconocido  20/03/2016 00:00                 0   \n",
       "\n",
       "        PostalCode          LastSeen  \n",
       "14266        65529  05/04/2016 20:47  \n",
       "27568        26629  05/04/2016 07:44  \n",
       "31599        48432  05/04/2016 21:17  \n",
       "33138        61200  21/03/2016 03:45  \n",
       "43656        14482  13/03/2016 20:48  \n",
       "...            ...               ...  \n",
       "349709        6268  05/04/2016 21:47  \n",
       "351555       96148  02/04/2016 07:47  \n",
       "352384       92526  20/03/2016 21:17  \n",
       "353057       61381  05/04/2016 19:18  \n",
       "353727       42329  07/04/2016 00:46  \n",
       "\n",
       "[262 rows x 16 columns]"
      ]
     },
     "execution_count": 10,
     "metadata": {},
     "output_type": "execute_result"
    }
   ],
   "source": [
    "#Process duplicates\n",
    "duplicados = df.duplicated()\n",
    "filas_duplicadas = df[duplicados]\n",
    "filas_duplicadas"
   ]
  },
  {
   "cell_type": "code",
   "execution_count": 11,
   "metadata": {},
   "outputs": [],
   "source": [
    "#eliminate duplicates\n",
    "df = df.drop_duplicates().reset_index()"
   ]
  },
  {
   "cell_type": "code",
   "execution_count": 12,
   "metadata": {},
   "outputs": [
    {
     "name": "stdout",
     "output_type": "stream",
     "text": [
      "<class 'pandas.core.frame.DataFrame'>\n",
      "RangeIndex: 354107 entries, 0 to 354106\n",
      "Data columns (total 17 columns):\n",
      " #   Column             Non-Null Count   Dtype \n",
      "---  ------             --------------   ----- \n",
      " 0   index              354107 non-null  int64 \n",
      " 1   DateCrawled        354107 non-null  object\n",
      " 2   Price              354107 non-null  int64 \n",
      " 3   VehicleType        354107 non-null  object\n",
      " 4   RegistrationYear   354107 non-null  int64 \n",
      " 5   Gearbox            354107 non-null  object\n",
      " 6   Power              354107 non-null  int64 \n",
      " 7   Model              354107 non-null  object\n",
      " 8   Mileage            354107 non-null  int64 \n",
      " 9   RegistrationMonth  354107 non-null  int64 \n",
      " 10  FuelType           354107 non-null  object\n",
      " 11  Brand              354107 non-null  object\n",
      " 12  NotRepaired        354107 non-null  object\n",
      " 13  DateCreated        354107 non-null  object\n",
      " 14  NumberOfPictures   354107 non-null  int64 \n",
      " 15  PostalCode         354107 non-null  int64 \n",
      " 16  LastSeen           354107 non-null  object\n",
      "dtypes: int64(8), object(9)\n",
      "memory usage: 45.9+ MB\n"
     ]
    }
   ],
   "source": [
    "#correction validation\n",
    "df.info()"
   ]
  },
  {
   "cell_type": "code",
   "execution_count": 13,
   "metadata": {},
   "outputs": [],
   "source": [
    "#Change date format\n",
    "df['DateCrawled'] = pd.to_datetime(df['DateCrawled'], format='%d/%m/%Y %H:%M')\n",
    "df['LastSeen'] = pd.to_datetime(df['LastSeen'], format='%d/%m/%Y %H:%M')\n",
    "df['DateCreated'] = pd.to_datetime(df['DateCreated'], format='%d/%m/%Y %H:%M')"
   ]
  },
  {
   "cell_type": "code",
   "execution_count": 14,
   "metadata": {},
   "outputs": [],
   "source": [
    "# Extract day, month, and year components from the 'DateCrawled' column\n",
    "df['day-DateCrawled'] = df['DateCrawled'].dt.day\n",
    "df['month-DateCrawled'] = df['DateCrawled'].dt.month\n",
    "df['year-DateCrawled'] = df['DateCrawled'].dt.year\n",
    "\n",
    "# Extract day, month, and year components from the 'DateCreated' column\n",
    "df['day-DateCreated'] = df['DateCreated'].dt.day\n",
    "df['month-DateCreated'] = df['DateCreated'].dt.month\n",
    "df['year-DateCreated'] = df['DateCreated'].dt.year\n",
    "\n",
    "# Extract day, month, and year components from the 'LastSeen' column\n",
    "df['day-LastSeen'] = df['LastSeen'].dt.day\n",
    "df['month-LastSeen'] = df['LastSeen'].dt.month\n",
    "df['year-LastSeen'] = df['LastSeen'].dt.year"
   ]
  },
  {
   "cell_type": "code",
   "execution_count": 15,
   "metadata": {},
   "outputs": [
    {
     "name": "stdout",
     "output_type": "stream",
     "text": [
      "<class 'pandas.core.frame.DataFrame'>\n",
      "RangeIndex: 354107 entries, 0 to 354106\n",
      "Data columns (total 26 columns):\n",
      " #   Column             Non-Null Count   Dtype         \n",
      "---  ------             --------------   -----         \n",
      " 0   index              354107 non-null  int64         \n",
      " 1   DateCrawled        354107 non-null  datetime64[ns]\n",
      " 2   Price              354107 non-null  int64         \n",
      " 3   VehicleType        354107 non-null  object        \n",
      " 4   RegistrationYear   354107 non-null  int64         \n",
      " 5   Gearbox            354107 non-null  object        \n",
      " 6   Power              354107 non-null  int64         \n",
      " 7   Model              354107 non-null  object        \n",
      " 8   Mileage            354107 non-null  int64         \n",
      " 9   RegistrationMonth  354107 non-null  int64         \n",
      " 10  FuelType           354107 non-null  object        \n",
      " 11  Brand              354107 non-null  object        \n",
      " 12  NotRepaired        354107 non-null  object        \n",
      " 13  DateCreated        354107 non-null  datetime64[ns]\n",
      " 14  NumberOfPictures   354107 non-null  int64         \n",
      " 15  PostalCode         354107 non-null  int64         \n",
      " 16  LastSeen           354107 non-null  datetime64[ns]\n",
      " 17  day-DateCrawled    354107 non-null  int32         \n",
      " 18  month-DateCrawled  354107 non-null  int32         \n",
      " 19  year-DateCrawled   354107 non-null  int32         \n",
      " 20  day-DateCreated    354107 non-null  int32         \n",
      " 21  month-DateCreated  354107 non-null  int32         \n",
      " 22  year-DateCreated   354107 non-null  int32         \n",
      " 23  day-LastSeen       354107 non-null  int32         \n",
      " 24  month-LastSeen     354107 non-null  int32         \n",
      " 25  year-LastSeen      354107 non-null  int32         \n",
      "dtypes: datetime64[ns](3), int32(9), int64(8), object(6)\n",
      "memory usage: 58.1+ MB\n"
     ]
    }
   ],
   "source": [
    "#Show validation\n",
    "df.info()"
   ]
  },
  {
   "cell_type": "code",
   "execution_count": 16,
   "metadata": {},
   "outputs": [
    {
     "data": {
      "text/plain": [
       "(array([147173.,  72727.,  40703.,  28652.,  20742.,  12862.,  11068.,\n",
       "          8645.,   6404.,   5131.]),\n",
       " array([    0.,  2000.,  4000.,  6000.,  8000., 10000., 12000., 14000.,\n",
       "        16000., 18000., 20000.]),\n",
       " <BarContainer object of 10 artists>)"
      ]
     },
     "execution_count": 16,
     "metadata": {},
     "output_type": "execute_result"
    },
    {
     "data": {
      "image/png": "[encoded data removed]",
      "text/plain": [
       "<Figure size 640x480 with 1 Axes>"
      ]
     },
     "metadata": {},
     "output_type": "display_data"
    }
   ],
   "source": [
    "#analyze distribution of target data\n",
    "plt.hist(df['Price'],alpha=0.5, label='Price')"
   ]
  },
  {
   "cell_type": "markdown",
   "metadata": {},
   "source": [
    "## Model training"
   ]
  },
  {
   "cell_type": "code",
   "execution_count": 17,
   "metadata": {},
   "outputs": [],
   "source": [
    "# Create one-hot encoded columns for 'VehicleType' \n",
    "VehicleType_oh = pd.get_dummies(df['VehicleType'], drop_first=True) \n",
    "\n",
    "# Create one-hot encoded columns for 'Gearbox' \n",
    "Gearbox_og = pd.get_dummies(df['Gearbox'], drop_first=True) \n",
    "\n",
    "# Create one-hot encoded columns for 'Model'\n",
    "Model_og = pd.get_dummies(df['Model'], drop_first=True) \n",
    "\n",
    "# Create one-hot encoded columns for 'FuelType'\n",
    "FuelType_oh = pd.get_dummies(df['FuelType'], drop_first=True) \n",
    "\n",
    "# Create one-hot encoded columns for 'Brand'\n",
    "Brand_oh = pd.get_dummies(df['Brand'], drop_first=True) \n",
    "\n",
    "# Create one-hot encoded columns for 'NotRepaired'\n",
    "NotRepaired_oh = pd.get_dummies(df['NotRepaired'], drop_first=True)"
   ]
  },
  {
   "cell_type": "code",
   "execution_count": 18,
   "metadata": {},
   "outputs": [
    {
     "data": {
      "text/html": [
       "<div>\n",
       "<style scoped>\n",
       "    .dataframe tbody tr th:only-of-type {\n",
       "        vertical-align: middle;\n",
       "    }\n",
       "\n",
       "    .dataframe tbody tr th {\n",
       "        vertical-align: top;\n",
       "    }\n",
       "\n",
       "    .dataframe thead th {\n",
       "        text-align: right;\n",
       "    }\n",
       "</style>\n",
       "<table border=\"1\" class=\"dataframe\">\n",
       "  <thead>\n",
       "    <tr style=\"text-align: right;\">\n",
       "      <th></th>\n",
       "      <th>bus</th>\n",
       "      <th>convertible</th>\n",
       "      <th>coupe</th>\n",
       "      <th>other</th>\n",
       "      <th>sedan</th>\n",
       "      <th>small</th>\n",
       "      <th>suv</th>\n",
       "      <th>wagon</th>\n",
       "    </tr>\n",
       "  </thead>\n",
       "  <tbody>\n",
       "    <tr>\n",
       "      <th>0</th>\n",
       "      <td>False</td>\n",
       "      <td>False</td>\n",
       "      <td>False</td>\n",
       "      <td>False</td>\n",
       "      <td>False</td>\n",
       "      <td>False</td>\n",
       "      <td>False</td>\n",
       "      <td>False</td>\n",
       "    </tr>\n",
       "    <tr>\n",
       "      <th>1</th>\n",
       "      <td>False</td>\n",
       "      <td>False</td>\n",
       "      <td>True</td>\n",
       "      <td>False</td>\n",
       "      <td>False</td>\n",
       "      <td>False</td>\n",
       "      <td>False</td>\n",
       "      <td>False</td>\n",
       "    </tr>\n",
       "    <tr>\n",
       "      <th>2</th>\n",
       "      <td>False</td>\n",
       "      <td>False</td>\n",
       "      <td>False</td>\n",
       "      <td>False</td>\n",
       "      <td>False</td>\n",
       "      <td>False</td>\n",
       "      <td>True</td>\n",
       "      <td>False</td>\n",
       "    </tr>\n",
       "    <tr>\n",
       "      <th>3</th>\n",
       "      <td>False</td>\n",
       "      <td>False</td>\n",
       "      <td>False</td>\n",
       "      <td>False</td>\n",
       "      <td>False</td>\n",
       "      <td>True</td>\n",
       "      <td>False</td>\n",
       "      <td>False</td>\n",
       "    </tr>\n",
       "    <tr>\n",
       "      <th>4</th>\n",
       "      <td>False</td>\n",
       "      <td>False</td>\n",
       "      <td>False</td>\n",
       "      <td>False</td>\n",
       "      <td>False</td>\n",
       "      <td>True</td>\n",
       "      <td>False</td>\n",
       "      <td>False</td>\n",
       "    </tr>\n",
       "    <tr>\n",
       "      <th>...</th>\n",
       "      <td>...</td>\n",
       "      <td>...</td>\n",
       "      <td>...</td>\n",
       "      <td>...</td>\n",
       "      <td>...</td>\n",
       "      <td>...</td>\n",
       "      <td>...</td>\n",
       "      <td>...</td>\n",
       "    </tr>\n",
       "    <tr>\n",
       "      <th>354102</th>\n",
       "      <td>False</td>\n",
       "      <td>False</td>\n",
       "      <td>False</td>\n",
       "      <td>False</td>\n",
       "      <td>False</td>\n",
       "      <td>False</td>\n",
       "      <td>False</td>\n",
       "      <td>False</td>\n",
       "    </tr>\n",
       "    <tr>\n",
       "      <th>354103</th>\n",
       "      <td>False</td>\n",
       "      <td>False</td>\n",
       "      <td>False</td>\n",
       "      <td>False</td>\n",
       "      <td>False</td>\n",
       "      <td>False</td>\n",
       "      <td>False</td>\n",
       "      <td>False</td>\n",
       "    </tr>\n",
       "    <tr>\n",
       "      <th>354104</th>\n",
       "      <td>False</td>\n",
       "      <td>True</td>\n",
       "      <td>False</td>\n",
       "      <td>False</td>\n",
       "      <td>False</td>\n",
       "      <td>False</td>\n",
       "      <td>False</td>\n",
       "      <td>False</td>\n",
       "    </tr>\n",
       "    <tr>\n",
       "      <th>354105</th>\n",
       "      <td>True</td>\n",
       "      <td>False</td>\n",
       "      <td>False</td>\n",
       "      <td>False</td>\n",
       "      <td>False</td>\n",
       "      <td>False</td>\n",
       "      <td>False</td>\n",
       "      <td>False</td>\n",
       "    </tr>\n",
       "    <tr>\n",
       "      <th>354106</th>\n",
       "      <td>False</td>\n",
       "      <td>False</td>\n",
       "      <td>False</td>\n",
       "      <td>False</td>\n",
       "      <td>False</td>\n",
       "      <td>False</td>\n",
       "      <td>False</td>\n",
       "      <td>True</td>\n",
       "    </tr>\n",
       "  </tbody>\n",
       "</table>\n",
       "<p>354107 rows × 8 columns</p>\n",
       "</div>"
      ],
      "text/plain": [
       "          bus  convertible  coupe  other  sedan  small    suv  wagon\n",
       "0       False        False  False  False  False  False  False  False\n",
       "1       False        False   True  False  False  False  False  False\n",
       "2       False        False  False  False  False  False   True  False\n",
       "3       False        False  False  False  False   True  False  False\n",
       "4       False        False  False  False  False   True  False  False\n",
       "...       ...          ...    ...    ...    ...    ...    ...    ...\n",
       "354102  False        False  False  False  False  False  False  False\n",
       "354103  False        False  False  False  False  False  False  False\n",
       "354104  False         True  False  False  False  False  False  False\n",
       "354105   True        False  False  False  False  False  False  False\n",
       "354106  False        False  False  False  False  False  False   True\n",
       "\n",
       "[354107 rows x 8 columns]"
      ]
     },
     "execution_count": 18,
     "metadata": {},
     "output_type": "execute_result"
    }
   ],
   "source": [
    "VehicleType_oh"
   ]
  },
  {
   "cell_type": "code",
   "execution_count": 19,
   "metadata": {},
   "outputs": [],
   "source": [
    "VehicleType_oh.rename(columns={'other': 'other_VehicleType'}, inplace=True) \n",
    "# Rename the 'other' column in the VehicleType_oh DataFrame to 'other_VehicleType' \n",
    "\n",
    "FuelType_oh.rename(columns={'other': 'other_FuelType'}, inplace=True) \n",
    "# Rename the 'other' column in the FuelType_oh DataFrame to 'other_FuelType' \n"
   ]
  },
  {
   "cell_type": "code",
   "execution_count": 20,
   "metadata": {},
   "outputs": [],
   "source": [
    "# Concatenate the original DataFrame (df) with the one-hot encoded DataFrames \n",
    "df_concat = pd.concat([df, VehicleType_oh,Gearbox_og,Model_og,FuelType_oh,Brand_oh,NotRepaired_oh], axis=1)"
   ]
  },
  {
   "cell_type": "code",
   "execution_count": 21,
   "metadata": {},
   "outputs": [
    {
     "data": {
      "text/html": [
       "<div>\n",
       "<style scoped>\n",
       "    .dataframe tbody tr th:only-of-type {\n",
       "        vertical-align: middle;\n",
       "    }\n",
       "\n",
       "    .dataframe tbody tr th {\n",
       "        vertical-align: top;\n",
       "    }\n",
       "\n",
       "    .dataframe thead th {\n",
       "        text-align: right;\n",
       "    }\n",
       "</style>\n",
       "<table border=\"1\" class=\"dataframe\">\n",
       "  <thead>\n",
       "    <tr style=\"text-align: right;\">\n",
       "      <th></th>\n",
       "      <th>index</th>\n",
       "      <th>DateCrawled</th>\n",
       "      <th>Price</th>\n",
       "      <th>VehicleType</th>\n",
       "      <th>RegistrationYear</th>\n",
       "      <th>Gearbox</th>\n",
       "      <th>Power</th>\n",
       "      <th>Model</th>\n",
       "      <th>Mileage</th>\n",
       "      <th>RegistrationMonth</th>\n",
       "      <th>...</th>\n",
       "      <th>smart</th>\n",
       "      <th>sonstige_autos</th>\n",
       "      <th>subaru</th>\n",
       "      <th>suzuki</th>\n",
       "      <th>toyota</th>\n",
       "      <th>trabant</th>\n",
       "      <th>volkswagen</th>\n",
       "      <th>volvo</th>\n",
       "      <th>no</th>\n",
       "      <th>yes</th>\n",
       "    </tr>\n",
       "  </thead>\n",
       "  <tbody>\n",
       "    <tr>\n",
       "      <th>0</th>\n",
       "      <td>0</td>\n",
       "      <td>2016-03-24 11:52:00</td>\n",
       "      <td>480</td>\n",
       "      <td>Desconocido</td>\n",
       "      <td>1993</td>\n",
       "      <td>manual</td>\n",
       "      <td>0</td>\n",
       "      <td>golf</td>\n",
       "      <td>150000</td>\n",
       "      <td>0</td>\n",
       "      <td>...</td>\n",
       "      <td>False</td>\n",
       "      <td>False</td>\n",
       "      <td>False</td>\n",
       "      <td>False</td>\n",
       "      <td>False</td>\n",
       "      <td>False</td>\n",
       "      <td>True</td>\n",
       "      <td>False</td>\n",
       "      <td>False</td>\n",
       "      <td>False</td>\n",
       "    </tr>\n",
       "    <tr>\n",
       "      <th>1</th>\n",
       "      <td>1</td>\n",
       "      <td>2016-03-24 10:58:00</td>\n",
       "      <td>18300</td>\n",
       "      <td>coupe</td>\n",
       "      <td>2011</td>\n",
       "      <td>manual</td>\n",
       "      <td>190</td>\n",
       "      <td>Desconocido</td>\n",
       "      <td>125000</td>\n",
       "      <td>5</td>\n",
       "      <td>...</td>\n",
       "      <td>False</td>\n",
       "      <td>False</td>\n",
       "      <td>False</td>\n",
       "      <td>False</td>\n",
       "      <td>False</td>\n",
       "      <td>False</td>\n",
       "      <td>False</td>\n",
       "      <td>False</td>\n",
       "      <td>False</td>\n",
       "      <td>True</td>\n",
       "    </tr>\n",
       "    <tr>\n",
       "      <th>2</th>\n",
       "      <td>2</td>\n",
       "      <td>2016-03-14 12:52:00</td>\n",
       "      <td>9800</td>\n",
       "      <td>suv</td>\n",
       "      <td>2004</td>\n",
       "      <td>auto</td>\n",
       "      <td>163</td>\n",
       "      <td>grand</td>\n",
       "      <td>125000</td>\n",
       "      <td>8</td>\n",
       "      <td>...</td>\n",
       "      <td>False</td>\n",
       "      <td>False</td>\n",
       "      <td>False</td>\n",
       "      <td>False</td>\n",
       "      <td>False</td>\n",
       "      <td>False</td>\n",
       "      <td>False</td>\n",
       "      <td>False</td>\n",
       "      <td>False</td>\n",
       "      <td>False</td>\n",
       "    </tr>\n",
       "    <tr>\n",
       "      <th>3</th>\n",
       "      <td>3</td>\n",
       "      <td>2016-03-17 16:54:00</td>\n",
       "      <td>1500</td>\n",
       "      <td>small</td>\n",
       "      <td>2001</td>\n",
       "      <td>manual</td>\n",
       "      <td>75</td>\n",
       "      <td>golf</td>\n",
       "      <td>150000</td>\n",
       "      <td>6</td>\n",
       "      <td>...</td>\n",
       "      <td>False</td>\n",
       "      <td>False</td>\n",
       "      <td>False</td>\n",
       "      <td>False</td>\n",
       "      <td>False</td>\n",
       "      <td>False</td>\n",
       "      <td>True</td>\n",
       "      <td>False</td>\n",
       "      <td>True</td>\n",
       "      <td>False</td>\n",
       "    </tr>\n",
       "    <tr>\n",
       "      <th>4</th>\n",
       "      <td>4</td>\n",
       "      <td>2016-03-31 17:25:00</td>\n",
       "      <td>3600</td>\n",
       "      <td>small</td>\n",
       "      <td>2008</td>\n",
       "      <td>manual</td>\n",
       "      <td>69</td>\n",
       "      <td>fabia</td>\n",
       "      <td>90000</td>\n",
       "      <td>7</td>\n",
       "      <td>...</td>\n",
       "      <td>False</td>\n",
       "      <td>False</td>\n",
       "      <td>False</td>\n",
       "      <td>False</td>\n",
       "      <td>False</td>\n",
       "      <td>False</td>\n",
       "      <td>False</td>\n",
       "      <td>False</td>\n",
       "      <td>True</td>\n",
       "      <td>False</td>\n",
       "    </tr>\n",
       "    <tr>\n",
       "      <th>...</th>\n",
       "      <td>...</td>\n",
       "      <td>...</td>\n",
       "      <td>...</td>\n",
       "      <td>...</td>\n",
       "      <td>...</td>\n",
       "      <td>...</td>\n",
       "      <td>...</td>\n",
       "      <td>...</td>\n",
       "      <td>...</td>\n",
       "      <td>...</td>\n",
       "      <td>...</td>\n",
       "      <td>...</td>\n",
       "      <td>...</td>\n",
       "      <td>...</td>\n",
       "      <td>...</td>\n",
       "      <td>...</td>\n",
       "      <td>...</td>\n",
       "      <td>...</td>\n",
       "      <td>...</td>\n",
       "      <td>...</td>\n",
       "      <td>...</td>\n",
       "    </tr>\n",
       "    <tr>\n",
       "      <th>354102</th>\n",
       "      <td>354364</td>\n",
       "      <td>2016-03-21 09:50:00</td>\n",
       "      <td>0</td>\n",
       "      <td>Desconocido</td>\n",
       "      <td>2005</td>\n",
       "      <td>manual</td>\n",
       "      <td>0</td>\n",
       "      <td>colt</td>\n",
       "      <td>150000</td>\n",
       "      <td>7</td>\n",
       "      <td>...</td>\n",
       "      <td>False</td>\n",
       "      <td>False</td>\n",
       "      <td>False</td>\n",
       "      <td>False</td>\n",
       "      <td>False</td>\n",
       "      <td>False</td>\n",
       "      <td>False</td>\n",
       "      <td>False</td>\n",
       "      <td>False</td>\n",
       "      <td>True</td>\n",
       "    </tr>\n",
       "    <tr>\n",
       "      <th>354103</th>\n",
       "      <td>354365</td>\n",
       "      <td>2016-03-14 17:48:00</td>\n",
       "      <td>2200</td>\n",
       "      <td>Desconocido</td>\n",
       "      <td>2005</td>\n",
       "      <td>Desconocido</td>\n",
       "      <td>0</td>\n",
       "      <td>Desconocido</td>\n",
       "      <td>20000</td>\n",
       "      <td>1</td>\n",
       "      <td>...</td>\n",
       "      <td>False</td>\n",
       "      <td>True</td>\n",
       "      <td>False</td>\n",
       "      <td>False</td>\n",
       "      <td>False</td>\n",
       "      <td>False</td>\n",
       "      <td>False</td>\n",
       "      <td>False</td>\n",
       "      <td>False</td>\n",
       "      <td>False</td>\n",
       "    </tr>\n",
       "    <tr>\n",
       "      <th>354104</th>\n",
       "      <td>354366</td>\n",
       "      <td>2016-03-05 19:56:00</td>\n",
       "      <td>1199</td>\n",
       "      <td>convertible</td>\n",
       "      <td>2000</td>\n",
       "      <td>auto</td>\n",
       "      <td>101</td>\n",
       "      <td>fortwo</td>\n",
       "      <td>125000</td>\n",
       "      <td>3</td>\n",
       "      <td>...</td>\n",
       "      <td>True</td>\n",
       "      <td>False</td>\n",
       "      <td>False</td>\n",
       "      <td>False</td>\n",
       "      <td>False</td>\n",
       "      <td>False</td>\n",
       "      <td>False</td>\n",
       "      <td>False</td>\n",
       "      <td>True</td>\n",
       "      <td>False</td>\n",
       "    </tr>\n",
       "    <tr>\n",
       "      <th>354105</th>\n",
       "      <td>354367</td>\n",
       "      <td>2016-03-19 18:57:00</td>\n",
       "      <td>9200</td>\n",
       "      <td>bus</td>\n",
       "      <td>1996</td>\n",
       "      <td>manual</td>\n",
       "      <td>102</td>\n",
       "      <td>transporter</td>\n",
       "      <td>150000</td>\n",
       "      <td>3</td>\n",
       "      <td>...</td>\n",
       "      <td>False</td>\n",
       "      <td>False</td>\n",
       "      <td>False</td>\n",
       "      <td>False</td>\n",
       "      <td>False</td>\n",
       "      <td>False</td>\n",
       "      <td>True</td>\n",
       "      <td>False</td>\n",
       "      <td>True</td>\n",
       "      <td>False</td>\n",
       "    </tr>\n",
       "    <tr>\n",
       "      <th>354106</th>\n",
       "      <td>354368</td>\n",
       "      <td>2016-03-20 19:41:00</td>\n",
       "      <td>3400</td>\n",
       "      <td>wagon</td>\n",
       "      <td>2002</td>\n",
       "      <td>manual</td>\n",
       "      <td>100</td>\n",
       "      <td>golf</td>\n",
       "      <td>150000</td>\n",
       "      <td>6</td>\n",
       "      <td>...</td>\n",
       "      <td>False</td>\n",
       "      <td>False</td>\n",
       "      <td>False</td>\n",
       "      <td>False</td>\n",
       "      <td>False</td>\n",
       "      <td>False</td>\n",
       "      <td>True</td>\n",
       "      <td>False</td>\n",
       "      <td>False</td>\n",
       "      <td>False</td>\n",
       "    </tr>\n",
       "  </tbody>\n",
       "</table>\n",
       "<p>354107 rows × 334 columns</p>\n",
       "</div>"
      ],
      "text/plain": [
       "         index         DateCrawled  Price  VehicleType  RegistrationYear  \\\n",
       "0            0 2016-03-24 11:52:00    480  Desconocido              1993   \n",
       "1            1 2016-03-24 10:58:00  18300        coupe              2011   \n",
       "2            2 2016-03-14 12:52:00   9800          suv              2004   \n",
       "3            3 2016-03-17 16:54:00   1500        small              2001   \n",
       "4            4 2016-03-31 17:25:00   3600        small              2008   \n",
       "...        ...                 ...    ...          ...               ...   \n",
       "354102  354364 2016-03-21 09:50:00      0  Desconocido              2005   \n",
       "354103  354365 2016-03-14 17:48:00   2200  Desconocido              2005   \n",
       "354104  354366 2016-03-05 19:56:00   1199  convertible              2000   \n",
       "354105  354367 2016-03-19 18:57:00   9200          bus              1996   \n",
       "354106  354368 2016-03-20 19:41:00   3400        wagon              2002   \n",
       "\n",
       "            Gearbox  Power        Model  Mileage  RegistrationMonth  ...  \\\n",
       "0            manual      0         golf   150000                  0  ...   \n",
       "1            manual    190  Desconocido   125000                  5  ...   \n",
       "2              auto    163        grand   125000                  8  ...   \n",
       "3            manual     75         golf   150000                  6  ...   \n",
       "4            manual     69        fabia    90000                  7  ...   \n",
       "...             ...    ...          ...      ...                ...  ...   \n",
       "354102       manual      0         colt   150000                  7  ...   \n",
       "354103  Desconocido      0  Desconocido    20000                  1  ...   \n",
       "354104         auto    101       fortwo   125000                  3  ...   \n",
       "354105       manual    102  transporter   150000                  3  ...   \n",
       "354106       manual    100         golf   150000                  6  ...   \n",
       "\n",
       "        smart sonstige_autos subaru suzuki  toyota  trabant volkswagen  volvo  \\\n",
       "0       False          False  False  False   False    False       True  False   \n",
       "1       False          False  False  False   False    False      False  False   \n",
       "2       False          False  False  False   False    False      False  False   \n",
       "3       False          False  False  False   False    False       True  False   \n",
       "4       False          False  False  False   False    False      False  False   \n",
       "...       ...            ...    ...    ...     ...      ...        ...    ...   \n",
       "354102  False          False  False  False   False    False      False  False   \n",
       "354103  False           True  False  False   False    False      False  False   \n",
       "354104   True          False  False  False   False    False      False  False   \n",
       "354105  False          False  False  False   False    False       True  False   \n",
       "354106  False          False  False  False   False    False       True  False   \n",
       "\n",
       "           no    yes  \n",
       "0       False  False  \n",
       "1       False   True  \n",
       "2       False  False  \n",
       "3        True  False  \n",
       "4        True  False  \n",
       "...       ...    ...  \n",
       "354102  False   True  \n",
       "354103  False  False  \n",
       "354104   True  False  \n",
       "354105   True  False  \n",
       "354106  False  False  \n",
       "\n",
       "[354107 rows x 334 columns]"
      ]
     },
     "execution_count": 21,
     "metadata": {},
     "output_type": "execute_result"
    }
   ],
   "source": [
    "df_concat"
   ]
  },
  {
   "cell_type": "code",
   "execution_count": 22,
   "metadata": {},
   "outputs": [],
   "source": [
    "#define characteristics and objective\n",
    "features = df_concat.drop(columns=['Price','index','VehicleType','Gearbox','Model','FuelType','Brand','NotRepaired','DateCrawled','DateCreated','LastSeen'], axis=1)\n",
    "target = df_concat['Price']"
   ]
  },
  {
   "cell_type": "code",
   "execution_count": 23,
   "metadata": {},
   "outputs": [
    {
     "data": {
      "text/html": [
       "<div>\n",
       "<style scoped>\n",
       "    .dataframe tbody tr th:only-of-type {\n",
       "        vertical-align: middle;\n",
       "    }\n",
       "\n",
       "    .dataframe tbody tr th {\n",
       "        vertical-align: top;\n",
       "    }\n",
       "\n",
       "    .dataframe thead th {\n",
       "        text-align: right;\n",
       "    }\n",
       "</style>\n",
       "<table border=\"1\" class=\"dataframe\">\n",
       "  <thead>\n",
       "    <tr style=\"text-align: right;\">\n",
       "      <th></th>\n",
       "      <th>RegistrationYear</th>\n",
       "      <th>Power</th>\n",
       "      <th>Mileage</th>\n",
       "      <th>RegistrationMonth</th>\n",
       "      <th>NumberOfPictures</th>\n",
       "      <th>PostalCode</th>\n",
       "      <th>day-DateCrawled</th>\n",
       "      <th>month-DateCrawled</th>\n",
       "      <th>year-DateCrawled</th>\n",
       "      <th>day-DateCreated</th>\n",
       "      <th>...</th>\n",
       "      <th>smart</th>\n",
       "      <th>sonstige_autos</th>\n",
       "      <th>subaru</th>\n",
       "      <th>suzuki</th>\n",
       "      <th>toyota</th>\n",
       "      <th>trabant</th>\n",
       "      <th>volkswagen</th>\n",
       "      <th>volvo</th>\n",
       "      <th>no</th>\n",
       "      <th>yes</th>\n",
       "    </tr>\n",
       "  </thead>\n",
       "  <tbody>\n",
       "    <tr>\n",
       "      <th>0</th>\n",
       "      <td>1993</td>\n",
       "      <td>0</td>\n",
       "      <td>150000</td>\n",
       "      <td>0</td>\n",
       "      <td>0</td>\n",
       "      <td>70435</td>\n",
       "      <td>24</td>\n",
       "      <td>3</td>\n",
       "      <td>2016</td>\n",
       "      <td>24</td>\n",
       "      <td>...</td>\n",
       "      <td>False</td>\n",
       "      <td>False</td>\n",
       "      <td>False</td>\n",
       "      <td>False</td>\n",
       "      <td>False</td>\n",
       "      <td>False</td>\n",
       "      <td>True</td>\n",
       "      <td>False</td>\n",
       "      <td>False</td>\n",
       "      <td>False</td>\n",
       "    </tr>\n",
       "    <tr>\n",
       "      <th>1</th>\n",
       "      <td>2011</td>\n",
       "      <td>190</td>\n",
       "      <td>125000</td>\n",
       "      <td>5</td>\n",
       "      <td>0</td>\n",
       "      <td>66954</td>\n",
       "      <td>24</td>\n",
       "      <td>3</td>\n",
       "      <td>2016</td>\n",
       "      <td>24</td>\n",
       "      <td>...</td>\n",
       "      <td>False</td>\n",
       "      <td>False</td>\n",
       "      <td>False</td>\n",
       "      <td>False</td>\n",
       "      <td>False</td>\n",
       "      <td>False</td>\n",
       "      <td>False</td>\n",
       "      <td>False</td>\n",
       "      <td>False</td>\n",
       "      <td>True</td>\n",
       "    </tr>\n",
       "    <tr>\n",
       "      <th>2</th>\n",
       "      <td>2004</td>\n",
       "      <td>163</td>\n",
       "      <td>125000</td>\n",
       "      <td>8</td>\n",
       "      <td>0</td>\n",
       "      <td>90480</td>\n",
       "      <td>14</td>\n",
       "      <td>3</td>\n",
       "      <td>2016</td>\n",
       "      <td>14</td>\n",
       "      <td>...</td>\n",
       "      <td>False</td>\n",
       "      <td>False</td>\n",
       "      <td>False</td>\n",
       "      <td>False</td>\n",
       "      <td>False</td>\n",
       "      <td>False</td>\n",
       "      <td>False</td>\n",
       "      <td>False</td>\n",
       "      <td>False</td>\n",
       "      <td>False</td>\n",
       "    </tr>\n",
       "    <tr>\n",
       "      <th>3</th>\n",
       "      <td>2001</td>\n",
       "      <td>75</td>\n",
       "      <td>150000</td>\n",
       "      <td>6</td>\n",
       "      <td>0</td>\n",
       "      <td>91074</td>\n",
       "      <td>17</td>\n",
       "      <td>3</td>\n",
       "      <td>2016</td>\n",
       "      <td>17</td>\n",
       "      <td>...</td>\n",
       "      <td>False</td>\n",
       "      <td>False</td>\n",
       "      <td>False</td>\n",
       "      <td>False</td>\n",
       "      <td>False</td>\n",
       "      <td>False</td>\n",
       "      <td>True</td>\n",
       "      <td>False</td>\n",
       "      <td>True</td>\n",
       "      <td>False</td>\n",
       "    </tr>\n",
       "    <tr>\n",
       "      <th>4</th>\n",
       "      <td>2008</td>\n",
       "      <td>69</td>\n",
       "      <td>90000</td>\n",
       "      <td>7</td>\n",
       "      <td>0</td>\n",
       "      <td>60437</td>\n",
       "      <td>31</td>\n",
       "      <td>3</td>\n",
       "      <td>2016</td>\n",
       "      <td>31</td>\n",
       "      <td>...</td>\n",
       "      <td>False</td>\n",
       "      <td>False</td>\n",
       "      <td>False</td>\n",
       "      <td>False</td>\n",
       "      <td>False</td>\n",
       "      <td>False</td>\n",
       "      <td>False</td>\n",
       "      <td>False</td>\n",
       "      <td>True</td>\n",
       "      <td>False</td>\n",
       "    </tr>\n",
       "    <tr>\n",
       "      <th>...</th>\n",
       "      <td>...</td>\n",
       "      <td>...</td>\n",
       "      <td>...</td>\n",
       "      <td>...</td>\n",
       "      <td>...</td>\n",
       "      <td>...</td>\n",
       "      <td>...</td>\n",
       "      <td>...</td>\n",
       "      <td>...</td>\n",
       "      <td>...</td>\n",
       "      <td>...</td>\n",
       "      <td>...</td>\n",
       "      <td>...</td>\n",
       "      <td>...</td>\n",
       "      <td>...</td>\n",
       "      <td>...</td>\n",
       "      <td>...</td>\n",
       "      <td>...</td>\n",
       "      <td>...</td>\n",
       "      <td>...</td>\n",
       "      <td>...</td>\n",
       "    </tr>\n",
       "    <tr>\n",
       "      <th>354102</th>\n",
       "      <td>2005</td>\n",
       "      <td>0</td>\n",
       "      <td>150000</td>\n",
       "      <td>7</td>\n",
       "      <td>0</td>\n",
       "      <td>2694</td>\n",
       "      <td>21</td>\n",
       "      <td>3</td>\n",
       "      <td>2016</td>\n",
       "      <td>21</td>\n",
       "      <td>...</td>\n",
       "      <td>False</td>\n",
       "      <td>False</td>\n",
       "      <td>False</td>\n",
       "      <td>False</td>\n",
       "      <td>False</td>\n",
       "      <td>False</td>\n",
       "      <td>False</td>\n",
       "      <td>False</td>\n",
       "      <td>False</td>\n",
       "      <td>True</td>\n",
       "    </tr>\n",
       "    <tr>\n",
       "      <th>354103</th>\n",
       "      <td>2005</td>\n",
       "      <td>0</td>\n",
       "      <td>20000</td>\n",
       "      <td>1</td>\n",
       "      <td>0</td>\n",
       "      <td>39576</td>\n",
       "      <td>14</td>\n",
       "      <td>3</td>\n",
       "      <td>2016</td>\n",
       "      <td>14</td>\n",
       "      <td>...</td>\n",
       "      <td>False</td>\n",
       "      <td>True</td>\n",
       "      <td>False</td>\n",
       "      <td>False</td>\n",
       "      <td>False</td>\n",
       "      <td>False</td>\n",
       "      <td>False</td>\n",
       "      <td>False</td>\n",
       "      <td>False</td>\n",
       "      <td>False</td>\n",
       "    </tr>\n",
       "    <tr>\n",
       "      <th>354104</th>\n",
       "      <td>2000</td>\n",
       "      <td>101</td>\n",
       "      <td>125000</td>\n",
       "      <td>3</td>\n",
       "      <td>0</td>\n",
       "      <td>26135</td>\n",
       "      <td>5</td>\n",
       "      <td>3</td>\n",
       "      <td>2016</td>\n",
       "      <td>5</td>\n",
       "      <td>...</td>\n",
       "      <td>True</td>\n",
       "      <td>False</td>\n",
       "      <td>False</td>\n",
       "      <td>False</td>\n",
       "      <td>False</td>\n",
       "      <td>False</td>\n",
       "      <td>False</td>\n",
       "      <td>False</td>\n",
       "      <td>True</td>\n",
       "      <td>False</td>\n",
       "    </tr>\n",
       "    <tr>\n",
       "      <th>354105</th>\n",
       "      <td>1996</td>\n",
       "      <td>102</td>\n",
       "      <td>150000</td>\n",
       "      <td>3</td>\n",
       "      <td>0</td>\n",
       "      <td>87439</td>\n",
       "      <td>19</td>\n",
       "      <td>3</td>\n",
       "      <td>2016</td>\n",
       "      <td>19</td>\n",
       "      <td>...</td>\n",
       "      <td>False</td>\n",
       "      <td>False</td>\n",
       "      <td>False</td>\n",
       "      <td>False</td>\n",
       "      <td>False</td>\n",
       "      <td>False</td>\n",
       "      <td>True</td>\n",
       "      <td>False</td>\n",
       "      <td>True</td>\n",
       "      <td>False</td>\n",
       "    </tr>\n",
       "    <tr>\n",
       "      <th>354106</th>\n",
       "      <td>2002</td>\n",
       "      <td>100</td>\n",
       "      <td>150000</td>\n",
       "      <td>6</td>\n",
       "      <td>0</td>\n",
       "      <td>40764</td>\n",
       "      <td>20</td>\n",
       "      <td>3</td>\n",
       "      <td>2016</td>\n",
       "      <td>20</td>\n",
       "      <td>...</td>\n",
       "      <td>False</td>\n",
       "      <td>False</td>\n",
       "      <td>False</td>\n",
       "      <td>False</td>\n",
       "      <td>False</td>\n",
       "      <td>False</td>\n",
       "      <td>True</td>\n",
       "      <td>False</td>\n",
       "      <td>False</td>\n",
       "      <td>False</td>\n",
       "    </tr>\n",
       "  </tbody>\n",
       "</table>\n",
       "<p>354107 rows × 323 columns</p>\n",
       "</div>"
      ],
      "text/plain": [
       "        RegistrationYear  Power  Mileage  RegistrationMonth  NumberOfPictures  \\\n",
       "0                   1993      0   150000                  0                 0   \n",
       "1                   2011    190   125000                  5                 0   \n",
       "2                   2004    163   125000                  8                 0   \n",
       "3                   2001     75   150000                  6                 0   \n",
       "4                   2008     69    90000                  7                 0   \n",
       "...                  ...    ...      ...                ...               ...   \n",
       "354102              2005      0   150000                  7                 0   \n",
       "354103              2005      0    20000                  1                 0   \n",
       "354104              2000    101   125000                  3                 0   \n",
       "354105              1996    102   150000                  3                 0   \n",
       "354106              2002    100   150000                  6                 0   \n",
       "\n",
       "        PostalCode  day-DateCrawled  month-DateCrawled  year-DateCrawled  \\\n",
       "0            70435               24                  3              2016   \n",
       "1            66954               24                  3              2016   \n",
       "2            90480               14                  3              2016   \n",
       "3            91074               17                  3              2016   \n",
       "4            60437               31                  3              2016   \n",
       "...            ...              ...                ...               ...   \n",
       "354102        2694               21                  3              2016   \n",
       "354103       39576               14                  3              2016   \n",
       "354104       26135                5                  3              2016   \n",
       "354105       87439               19                  3              2016   \n",
       "354106       40764               20                  3              2016   \n",
       "\n",
       "        day-DateCreated  ...  smart  sonstige_autos  subaru  suzuki  toyota  \\\n",
       "0                    24  ...  False           False   False   False   False   \n",
       "1                    24  ...  False           False   False   False   False   \n",
       "2                    14  ...  False           False   False   False   False   \n",
       "3                    17  ...  False           False   False   False   False   \n",
       "4                    31  ...  False           False   False   False   False   \n",
       "...                 ...  ...    ...             ...     ...     ...     ...   \n",
       "354102               21  ...  False           False   False   False   False   \n",
       "354103               14  ...  False            True   False   False   False   \n",
       "354104                5  ...   True           False   False   False   False   \n",
       "354105               19  ...  False           False   False   False   False   \n",
       "354106               20  ...  False           False   False   False   False   \n",
       "\n",
       "        trabant  volkswagen  volvo     no    yes  \n",
       "0         False        True  False  False  False  \n",
       "1         False       False  False  False   True  \n",
       "2         False       False  False  False  False  \n",
       "3         False        True  False   True  False  \n",
       "4         False       False  False   True  False  \n",
       "...         ...         ...    ...    ...    ...  \n",
       "354102    False       False  False  False   True  \n",
       "354103    False       False  False  False  False  \n",
       "354104    False       False  False   True  False  \n",
       "354105    False        True  False   True  False  \n",
       "354106    False        True  False  False  False  \n",
       "\n",
       "[354107 rows x 323 columns]"
      ]
     },
     "execution_count": 23,
     "metadata": {},
     "output_type": "execute_result"
    }
   ],
   "source": [
    "features"
   ]
  },
  {
   "cell_type": "code",
   "execution_count": 24,
   "metadata": {},
   "outputs": [],
   "source": [
    "if not pd.api.types.is_numeric_dtype(target):  # Check if data type is numeric\n",
    "    encoder = LabelEncoder()\n",
    "    y = encoder.fit_transform(target)"
   ]
  },
  {
   "cell_type": "code",
   "execution_count": 25,
   "metadata": {},
   "outputs": [],
   "source": [
    "#separate data\n",
    "features_train, features_valid, target_train, target_valid = train_test_split(features,target, test_size=0.25,random_state=12345)"
   ]
  },
  {
   "cell_type": "code",
   "execution_count": 26,
   "metadata": {},
   "outputs": [
    {
     "name": "stdout",
     "output_type": "stream",
     "text": [
      "RMSE: 3143.3507878536147\n",
      "Model Fitting Time: 6.526630163192749\n"
     ]
    }
   ],
   "source": [
    "# Linear Regression\n",
    "\n",
    "# Create a linear regression model\n",
    "model = LinearRegression()\n",
    "\n",
    "# Start time measurement for model fitting\n",
    "start_time1 = time.time()\n",
    "\n",
    "# Train the model on the training features and target variables\n",
    "model.fit(features_train, target_train)\n",
    "\n",
    "# End time measurement for model fitting\n",
    "end_time1 = time.time()\n",
    "\n",
    "# Calculate the fitting time\n",
    "Fit_time = end_time1 - start_time1\n",
    "\n",
    "# Start time measurement for prediction\n",
    "start_time2 = time.time()\n",
    "\n",
    "# Make predictions on the validation features using the trained model\n",
    "predicted_value = model.predict(features_valid)\n",
    "\n",
    "# End time measurement for prediction\n",
    "end_time2 = time.time()\n",
    "\n",
    "# Calculate the prediction time\n",
    "predict_time = end_time2 - start_time2\n",
    "\n",
    "# Calculate the residuals (difference between actual and predicted values)\n",
    "residuals = target_valid - predicted_value\n",
    "\n",
    "# Calculate the Root Mean Squared Error (RMSE) as a performance metric\n",
    "rmse = np.sqrt(np.mean(residuals**2))\n",
    "\n",
    "# Print the RMSE metric\n",
    "print(\"RMSE:\", rmse)\n",
    "\n",
    "# Print the fitting time of the model\n",
    "print(\"Model Fitting Time:\", Fit_time)"
   ]
  },
  {
   "cell_type": "code",
   "execution_count": 27,
   "metadata": {},
   "outputs": [
    {
     "name": "stdout",
     "output_type": "stream",
     "text": [
      "RMSE: 2567.7848390435747\n",
      "Model fitting time: 125.22111105918884\n",
      "Model prediction time: 2.9999969005584717\n"
     ]
    }
   ],
   "source": [
    "# Decision Tree Classifier\n",
    "\n",
    "# Create a Decision Tree Classifier model with a fixed random state for reproducibility\n",
    "model = DecisionTreeClassifier(random_state=12345)\n",
    "\n",
    "# Start time measurement for training\n",
    "start_time1 = time.time()\n",
    "\n",
    "# Train the model on the training features and target variables\n",
    "model.fit(features_train, target_train)\n",
    "\n",
    "# End time measurement for training\n",
    "end_time1 = time.time()\n",
    "\n",
    "# Calculate the fitting time\n",
    "Fit_time = end_time1 - start_time1\n",
    "\n",
    "# Start time measurement for prediction\n",
    "start_time2 = time.time()\n",
    "\n",
    "# Make predictions on the validation features using the trained model\n",
    "predicted_value = model.predict(features_valid)\n",
    "\n",
    "# End time measurement for prediction\n",
    "end_time2 = time.time()\n",
    "\n",
    "# Calculate the prediction time\n",
    "predict_time = end_time2 - start_time2\n",
    "\n",
    "# Calculate root mean squared error (RMSE) as an evaluation metric\n",
    "residuals = target_valid - predicted_value\n",
    "rmse = np.sqrt(np.mean(residuals**2))\n",
    "\n",
    "# Print the RMSE metric\n",
    "print(\"RMSE:\", rmse)\n",
    "\n",
    "# Print the fitting time of the model\n",
    "print(\"Model fitting time:\", Fit_time)\n",
    "\n",
    "# Print the prediction time of the model\n",
    "print(\"Model prediction time:\", predict_time)"
   ]
  },
  {
   "cell_type": "code",
   "execution_count": null,
   "metadata": {},
   "outputs": [],
   "source": [
    "# CatBoost Regressor Model\n",
    "\n",
    "# Define the CatBoost Regressor model with hyperparameters\n",
    "model = CatBoostRegressor(\n",
    "    iterations=1000,  # Number of boosting iterations\n",
    "    learning_rate=0.1,  # Learning rate for the model\n",
    "    depth=6,           # Maximum tree depth\n",
    "    loss_function='RMSE'  # Root Mean Squared Error loss function\n",
    ")\n",
    "\n",
    "# Training Time Measurement\n",
    "start_time1 = time.time()  # Record start time before training\n",
    "\n",
    "# Train the model on the training features and target variables\n",
    "model.fit(features_train, target_train)\n",
    "\n",
    "# Training Time Measurement\n",
    "end_time1 = time.time()  # Record end time after training\n",
    "Fit_time = end_time1 - start_time1  # Calculate training time\n",
    "\n",
    "# Prediction Time Measurement\n",
    "start_time2 = time.time()  # Record start time before prediction\n",
    "\n",
    "# Make predictions on the validation features using the trained model\n",
    "predicted_value = model.predict(features_valid)\n",
    "\n",
    "# Prediction Time Measurement\n",
    "end_time2 = time.time()  # Record end time after prediction\n",
    "predict_time = end_time2 - start_time2  # Calculate prediction time\n",
    "\n",
    "# Calculate Root Mean Squared Error (RMSE)\n",
    "residuals = target_valid - predicted_value  # Calculate residuals\n",
    "rmse = np.sqrt(np.mean(residuals**2))  # Calculate RMSE\n",
    "\n",
    "# Print evaluation metrics and timings\n",
    "print(\"RMSE:\", rmse)  \n",
    "print(\"Model Training Time:\", Fit_time)  \n",
    "print(\"Model Prediction Time:\", predict_time) \n"
   ]
  },
  {
   "cell_type": "code",
   "execution_count": null,
   "metadata": {},
   "outputs": [],
   "source": [
    " # Define a parameter grid for CatBoostRegressor hyperparameter tuning\n",
    "param_grid = {\n",
    "    'depth': [6, 8, 10],  # Maximum tree depth to explore\n",
    "    'learning_rate':[0.01, 0.03, 0.1, 0.3],  # Learning rates to explore\n",
    "    'iterations': [500, 1000],  # Number of boosting iterations to explore\n",
    "}\n",
    "\n",
    "# Create a GridSearchCV object to perform hyperparameter tuning\n",
    "grid_search = GridSearchCV(estimator=CatBoostRegressor(),\n",
    "                           param_grid=param_grid,\n",
    "                           cv=5,  # Use 5-fold cross-validation for evaluation\n",
    "                           scoring='neg_mean_squared_error')  # Use negative mean squared error for metric (maximize R-squared)\n",
    "\n",
    "# Record start time before fitting the model\n",
    "start_time1 = time.time()\n",
    "grid_search.fit(features_train, target_train)\n",
    "# Record end time after fitting the model\n",
    "end_time1 = time.time()\n",
    "\n",
    "# Calculate the fitting time\n",
    "Fit_time = end_time1 - start_time1\n",
    "print(\"Fitting Time:\", Fit_time, \"seconds\")\n",
    "\n",
    "# Use the best model from GridSearchCV for prediction\n",
    "model = grid_search.best_estimator_\n",
    "\n",
    "# Record start time before prediction\n",
    "start_time2 = time.time()\n",
    "predicted_value = model.predict(features_valid)\n",
    "# Record end time after prediction\n",
    "end_time2 = time.time()\n",
    "\n",
    "# Calculate the prediction time\n",
    "predict_time = end_time2 - start_time1\n",
    "print(\"Prediction Time:\", predict_time, \"seconds\")\n",
    "\n",
    "# Calculate Root Mean Squared Error (RMSE) for evaluation\n",
    "residuals = target_valid - predicted_value\n",
    "rmse = np.sqrt(np.mean(residuals**2))\n",
    "print(\"RMSE:\", rmse)"
   ]
  },
  {
   "cell_type": "code",
   "execution_count": 30,
   "metadata": {},
   "outputs": [
    {
     "name": "stdout",
     "output_type": "stream",
     "text": [
      "Best parameters: {'depth': 10, 'iterations': 1000, 'learning_rate': 0.1}\n",
      "Best score: -2781647.1704663956\n"
     ]
    }
   ],
   "source": [
    "#Access search results in a grid\n",
    "cv_results = grid_search.cv_results_\n",
    "\n",
    "#Print the best parameters\n",
    "print(\"Best parameters:\", grid_search.best_params_)\n",
    "\n",
    "#Print the best score (negative RMSE in this case)\n",
    "print(\"Best score:\", grid_search.best_score_)"
   ]
  },
  {
   "cell_type": "code",
   "execution_count": null,
   "metadata": {},
   "outputs": [],
   "source": [
    "# CatBoost Regressor with optimized parameters\n",
    "model = CatBoostRegressor(iterations=1000, learning_rate=0.2, depth=10, loss_function='RMSE')\n",
    "\n",
    "# Start time measurement for training\n",
    "start_time1 = time.time()\n",
    "\n",
    "# Train the CatBoost model on the training features and target variables\n",
    "model.fit(features_train, target_train)\n",
    "\n",
    "# End time measurement for training\n",
    "end_time1 = time.time()\n",
    "\n",
    "# Calculate the total training time\n",
    "Fit_time = end_time1 - start_time1\n",
    "\n",
    "# Start time measurement for prediction\n",
    "start_time2 = time.time()\n",
    "\n",
    "# Make predictions on the validation features using the trained model\n",
    "predicted_value = model.predict(features_valid)\n",
    "\n",
    "# End time measurement for prediction\n",
    "end_time2 = time.time()\n",
    "\n",
    "# Calculate the total prediction time\n",
    "predict_time = end_time2 - start_time2\n",
    "\n",
    "# Calculate the residuals (difference between actual and predicted values)\n",
    "residuals = target_valid - predicted_value\n",
    "\n",
    "# Calculate the Root Mean Squared Error (RMSE) as the performance metric\n",
    "rmse = np.sqrt(np.mean(residuals**2))\n",
    "\n",
    "# Print the RMSE metric\n",
    "print(\"RMSE:\", rmse)\n",
    "\n",
    "# Print the training time\n",
    "print(\"Model Training Time:\", Fit_time)\n",
    "\n",
    "# Print the prediction time\n",
    "print(\"Model Prediction Time:\", predict_time)"
   ]
  },
  {
   "cell_type": "code",
   "execution_count": 32,
   "metadata": {},
   "outputs": [
    {
     "name": "stdout",
     "output_type": "stream",
     "text": [
      "RMSE: 1720.7216366649468\n",
      "Model Training Time: 750.4734201431274 seconds\n",
      "Model Prediction Time: 6.037261962890625 seconds\n"
     ]
    }
   ],
   "source": [
    "# Random Forest Regression Model\n",
    "\n",
    "# Model configuration (number of estimators and random state for reproducibility)\n",
    "model = RandomForestRegressor(n_estimators=100, random_state=12345)\n",
    "\n",
    "# Training Time Measurement\n",
    "start_time1 = time.time()\n",
    "model.fit(features_train, target_train)\n",
    "end_time1 = time.time()\n",
    "Fit_time = end_time1 - start_time1\n",
    "\n",
    "# Prediction Time Measurement\n",
    "start_time2 = time.time()\n",
    "predicted_value = model.predict(features_valid)\n",
    "end_time2 = time.time()\n",
    "predict_time = end_time2 - start_time2\n",
    "\n",
    "# Calculate Root Mean Squared Error (RMSE) for evaluation\n",
    "residuals = target_valid - predicted_value\n",
    "rmse = np.sqrt(np.mean(residuals**2))\n",
    "\n",
    "# Print results\n",
    "print(\"RMSE:\", rmse)\n",
    "print(\"Model Training Time:\", Fit_time, \"seconds\")  # More descriptive output\n",
    "print(\"Model Prediction Time:\", predict_time, \"seconds\")  # More descriptive output"
   ]
  },
  {
   "cell_type": "code",
   "execution_count": null,
   "metadata": {},
   "outputs": [],
   "source": [
    "# Import libraries (assuming LightGBM [lgb] and time are already imported)\n",
    "\n",
    "# Create a LightGBM classifier model\n",
    "model = lgb.LGBMClassifier()\n",
    "\n",
    "# Start timer to measure training time\n",
    "start_time1 = time.time()\n",
    "\n",
    "# Train the model on the training features and target variables\n",
    "model.fit(features_train, target_train)\n",
    "\n",
    "# End timer to measure training time\n",
    "end_time1 = time.time()\n",
    "\n",
    "# Calculate the total training time\n",
    "Fit_time = end_time1 - start_time1\n",
    "\n",
    "# Start timer to measure prediction time\n",
    "start_time2 = time.time()\n",
    "\n",
    "# Make predictions on the validation features using the trained model\n",
    "predicted_value = model.predict(features_valid)\n",
    "\n",
    "# End timer to measure prediction time\n",
    "end_time2 = time.time()\n",
    "\n",
    "# Calculate the total prediction time\n",
    "predict_time = end_time2 - start_time1\n",
    "\n",
    "# Calculate residuals (difference between actual and predicted values)\n",
    "residuals = target_valid - predicted_value\n",
    "\n",
    "# Calculate Root Mean Squared Error (RMSE) as a performance metric\n",
    "rmse = np.sqrt(np.mean(residuals**2))\n",
    "\n",
    "# Print the RMSE metric\n",
    "print(\"RECM:\", rmse)\n",
    "\n",
    "# Print the training time\n",
    "print(\"Tiempo de entreno del modelo:\", Fit_time, \"segundos\")  # Clarify units\n",
    "\n",
    "# Print the prediction time\n",
    "print(\"Tiempo de prediccion del modelo:\", predict_time, \"segundos\")  # Clarify units\n"
   ]
  },
  {
   "cell_type": "markdown",
   "metadata": {},
   "source": [
    "## Model analysis"
   ]
  },
  {
   "cell_type": "markdown",
   "metadata": {},
   "source": [
    "**Linear Regression**<br>\n",
    "RECM: 3143.3472906846964<br>\n",
    "Model training time: 9.296945095062256<br>\n",
    "Model prediction time: 0.24283337593078613<br>\n",
    "<br>\n",
    "**CatBoost**<br>\n",
    "RECM: 1726.5468894166006<br>\n",
    "Model training time: 11.219550132751465<br>\n",
    "Model prediction time: 0.06510424613952637<br>\n",
    "<br>\n",
    "**CatBoost with proando with different parameters**<br>\n",
    "RECM: 5703.569017899902<br>\n",
    "Model training time: 1175.0252730846405<br>\n",
    "Model prediction time: 59.30088520050049<br>\n",
    "<br>\n",
    "**RandomForestRegressor**<br>\n",
    "RECM: 1720.7216366649468<br>\n",
    "Model training time: 684.0022070407867<br>\n",
    "Model prediction time: 5.185247182846069<br>\n",
    "<br>\n",
    "**LGBMClassifier**<br>\n",
    "RECM: 5703.569017899902<br>\n",
    "Model training time: 1699.7037091255188<br>\n",
    "Model prediction time: 43.59494495391846<br>"
   ]
  },
  {
   "cell_type": "markdown",
   "metadata": {},
   "source": [
    "##Conclusion\n",
    "After the initial analysis of the data, different models were trained with the objective of finding the best model, in terms of RSME and speed, for predicting car prices, obtaining the following:\n",
    "\n",
    "CatBoost stands out as the best model in terms of RECM (root mean square error), indicating higher accuracy in price predictions. Furthermore, it presents a good balance between training time and prediction.\n",
    "Linear Regression serves as a good baseline, but its performance is significantly worse than CatBoost, suggesting that the relationship between features and price is not strictly linear.\n",
    "LightGBM has a significantly higher RECM than CatBoost and a much longer training and prediction time. This could be due to poor hyperparameter settings or model overfitting."
   ]
  },
  {
   "cell_type": "code",
   "execution_count": null,
   "metadata": {},
   "outputs": [],
   "source": []
  }
 ],
 "metadata": {
  "ExecuteTimeLog": [
   {
    "duration": 2914,
    "start_time": "2024-08-29T17:44:41.276Z"
   },
   {
    "duration": 506,
    "start_time": "2024-08-29T17:47:16.121Z"
   },
   {
    "duration": 87,
    "start_time": "2024-08-29T17:47:54.087Z"
   },
   {
    "duration": 58,
    "start_time": "2024-08-29T17:48:05.971Z"
   },
   {
    "duration": 56,
    "start_time": "2024-08-29T17:48:20.514Z"
   },
   {
    "duration": 90,
    "start_time": "2024-08-29T17:48:29.973Z"
   },
   {
    "duration": 14,
    "start_time": "2024-08-29T17:58:45.849Z"
   },
   {
    "duration": 65,
    "start_time": "2024-08-29T18:00:52.329Z"
   },
   {
    "duration": 117,
    "start_time": "2024-08-29T18:01:09.584Z"
   },
   {
    "duration": 249,
    "start_time": "2024-08-29T18:02:39.237Z"
   },
   {
    "duration": 275,
    "start_time": "2024-08-29T18:03:34.473Z"
   },
   {
    "duration": 537,
    "start_time": "2024-08-29T18:03:45.811Z"
   },
   {
    "duration": 283,
    "start_time": "2024-08-29T18:05:54.948Z"
   },
   {
    "duration": 278,
    "start_time": "2024-08-29T18:05:59.060Z"
   },
   {
    "duration": 283,
    "start_time": "2024-08-29T18:06:10.853Z"
   },
   {
    "duration": 371,
    "start_time": "2024-08-29T18:06:51.669Z"
   },
   {
    "duration": 42,
    "start_time": "2024-08-29T18:07:03.558Z"
   },
   {
    "duration": 5,
    "start_time": "2024-08-29T18:07:17.884Z"
   },
   {
    "duration": 22,
    "start_time": "2024-08-29T18:08:08.543Z"
   },
   {
    "duration": 28,
    "start_time": "2024-08-29T18:08:18.458Z"
   },
   {
    "duration": 8,
    "start_time": "2024-08-29T18:08:38.249Z"
   },
   {
    "duration": 9,
    "start_time": "2024-08-29T18:08:43.382Z"
   },
   {
    "duration": 7,
    "start_time": "2024-08-29T18:09:03.570Z"
   },
   {
    "duration": 23,
    "start_time": "2024-08-29T18:09:16.951Z"
   },
   {
    "duration": 335,
    "start_time": "2024-08-29T18:09:58.149Z"
   },
   {
    "duration": 15,
    "start_time": "2024-08-29T18:10:11.537Z"
   },
   {
    "duration": 19,
    "start_time": "2024-08-29T18:10:26.043Z"
   },
   {
    "duration": 32,
    "start_time": "2024-08-29T18:10:52.354Z"
   },
   {
    "duration": 61,
    "start_time": "2024-08-29T18:11:10.221Z"
   },
   {
    "duration": 352,
    "start_time": "2024-08-29T18:12:10.733Z"
   },
   {
    "duration": 121,
    "start_time": "2024-08-29T18:12:32.661Z"
   },
   {
    "duration": 4,
    "start_time": "2024-08-29T18:12:49.191Z"
   },
   {
    "duration": 457,
    "start_time": "2024-08-29T18:12:49.197Z"
   },
   {
    "duration": 15,
    "start_time": "2024-08-29T18:12:49.656Z"
   },
   {
    "duration": 60,
    "start_time": "2024-08-29T18:12:49.673Z"
   },
   {
    "duration": 117,
    "start_time": "2024-08-29T18:12:49.735Z"
   },
   {
    "duration": 76,
    "start_time": "2024-08-29T18:12:49.853Z"
   },
   {
    "duration": 129,
    "start_time": "2024-08-29T18:12:49.931Z"
   },
   {
    "duration": 274,
    "start_time": "2024-08-29T18:12:50.062Z"
   },
   {
    "duration": 253,
    "start_time": "2024-08-29T18:12:50.338Z"
   },
   {
    "duration": 323,
    "start_time": "2024-08-29T18:12:50.593Z"
   },
   {
    "duration": 115,
    "start_time": "2024-08-29T18:12:50.917Z"
   },
   {
    "duration": 332,
    "start_time": "2024-08-29T18:13:03.970Z"
   },
   {
    "duration": 115,
    "start_time": "2024-08-29T18:13:06.565Z"
   },
   {
    "duration": 195,
    "start_time": "2024-08-29T18:14:21.997Z"
   },
   {
    "duration": 151,
    "start_time": "2024-08-29T18:14:44.875Z"
   },
   {
    "duration": 49,
    "start_time": "2024-08-29T18:15:36.099Z"
   },
   {
    "duration": 26,
    "start_time": "2024-08-29T18:16:00.749Z"
   },
   {
    "duration": 21,
    "start_time": "2024-08-29T18:16:04.187Z"
   },
   {
    "duration": 116,
    "start_time": "2024-08-29T18:21:06.441Z"
   },
   {
    "duration": 16,
    "start_time": "2024-08-29T18:22:18.086Z"
   },
   {
    "duration": 22,
    "start_time": "2024-08-29T18:22:33.927Z"
   },
   {
    "duration": 566,
    "start_time": "2024-08-29T18:22:38.730Z"
   },
   {
    "duration": 716,
    "start_time": "2024-08-29T18:25:27.779Z"
   },
   {
    "duration": 669,
    "start_time": "2024-08-29T18:26:07.676Z"
   },
   {
    "duration": 88,
    "start_time": "2024-08-29T18:26:13.348Z"
   },
   {
    "duration": 5,
    "start_time": "2024-08-29T18:26:24.967Z"
   },
   {
    "duration": 378,
    "start_time": "2024-08-29T18:26:24.974Z"
   },
   {
    "duration": 10,
    "start_time": "2024-08-29T18:26:25.355Z"
   },
   {
    "duration": 67,
    "start_time": "2024-08-29T18:26:25.367Z"
   },
   {
    "duration": 111,
    "start_time": "2024-08-29T18:26:25.436Z"
   },
   {
    "duration": 77,
    "start_time": "2024-08-29T18:26:25.550Z"
   },
   {
    "duration": 101,
    "start_time": "2024-08-29T18:26:25.629Z"
   },
   {
    "duration": 202,
    "start_time": "2024-08-29T18:26:25.733Z"
   },
   {
    "duration": 230,
    "start_time": "2024-08-29T18:26:25.937Z"
   },
   {
    "duration": 290,
    "start_time": "2024-08-29T18:26:26.169Z"
   },
   {
    "duration": 94,
    "start_time": "2024-08-29T18:26:26.461Z"
   },
   {
    "duration": 1266,
    "start_time": "2024-08-29T18:26:26.557Z"
   },
   {
    "duration": 122,
    "start_time": "2024-08-29T18:26:27.826Z"
   },
   {
    "duration": 22,
    "start_time": "2024-08-29T18:26:27.950Z"
   },
   {
    "duration": 119,
    "start_time": "2024-08-29T18:26:27.974Z"
   },
   {
    "duration": 175,
    "start_time": "2024-08-29T18:26:31.762Z"
   },
   {
    "duration": 32,
    "start_time": "2024-08-29T18:34:49.018Z"
   },
   {
    "duration": 21,
    "start_time": "2024-08-29T18:34:59.746Z"
   },
   {
    "duration": 10,
    "start_time": "2024-08-29T18:35:10.387Z"
   },
   {
    "duration": 30,
    "start_time": "2024-08-29T18:35:31.241Z"
   },
   {
    "duration": 16,
    "start_time": "2024-08-29T18:35:53.465Z"
   },
   {
    "duration": 39,
    "start_time": "2024-08-29T18:36:42.143Z"
   },
   {
    "duration": 18,
    "start_time": "2024-08-29T18:36:45.740Z"
   },
   {
    "duration": 6,
    "start_time": "2024-08-29T18:37:01.737Z"
   },
   {
    "duration": 404,
    "start_time": "2024-08-29T18:37:01.746Z"
   },
   {
    "duration": 15,
    "start_time": "2024-08-29T18:37:02.152Z"
   },
   {
    "duration": 83,
    "start_time": "2024-08-29T18:37:02.169Z"
   },
   {
    "duration": 129,
    "start_time": "2024-08-29T18:37:02.255Z"
   },
   {
    "duration": 91,
    "start_time": "2024-08-29T18:37:02.385Z"
   },
   {
    "duration": 118,
    "start_time": "2024-08-29T18:37:02.478Z"
   },
   {
    "duration": 242,
    "start_time": "2024-08-29T18:37:02.598Z"
   },
   {
    "duration": 241,
    "start_time": "2024-08-29T18:37:02.843Z"
   },
   {
    "duration": 284,
    "start_time": "2024-08-29T18:37:03.086Z"
   },
   {
    "duration": 107,
    "start_time": "2024-08-29T18:37:03.371Z"
   },
   {
    "duration": 1528,
    "start_time": "2024-08-29T18:37:03.480Z"
   },
   {
    "duration": 26,
    "start_time": "2024-08-29T18:37:05.018Z"
   },
   {
    "duration": 146,
    "start_time": "2024-08-29T18:37:05.049Z"
   },
   {
    "duration": 57,
    "start_time": "2024-08-29T18:37:10.279Z"
   },
   {
    "duration": 20,
    "start_time": "2024-08-29T18:37:12.853Z"
   },
   {
    "duration": 12,
    "start_time": "2024-08-29T18:37:30.169Z"
   },
   {
    "duration": 19,
    "start_time": "2024-08-29T18:37:32.951Z"
   },
   {
    "duration": 13,
    "start_time": "2024-08-29T18:37:48.879Z"
   },
   {
    "duration": 8,
    "start_time": "2024-08-29T18:40:54.749Z"
   },
   {
    "duration": 10,
    "start_time": "2024-08-29T18:41:05.962Z"
   },
   {
    "duration": 13,
    "start_time": "2024-08-29T18:41:46.605Z"
   },
   {
    "duration": 10,
    "start_time": "2024-08-29T18:41:55.652Z"
   },
   {
    "duration": 16,
    "start_time": "2024-08-29T18:42:03.527Z"
   },
   {
    "duration": 25,
    "start_time": "2024-08-29T18:42:36.683Z"
   },
   {
    "duration": 5,
    "start_time": "2024-08-29T18:42:45.617Z"
   },
   {
    "duration": 452,
    "start_time": "2024-08-29T18:42:45.625Z"
   },
   {
    "duration": 13,
    "start_time": "2024-08-29T18:42:46.078Z"
   },
   {
    "duration": 77,
    "start_time": "2024-08-29T18:42:46.094Z"
   },
   {
    "duration": 150,
    "start_time": "2024-08-29T18:42:46.174Z"
   },
   {
    "duration": 64,
    "start_time": "2024-08-29T18:42:46.326Z"
   },
   {
    "duration": 158,
    "start_time": "2024-08-29T18:42:46.391Z"
   },
   {
    "duration": 235,
    "start_time": "2024-08-29T18:42:46.550Z"
   },
   {
    "duration": 249,
    "start_time": "2024-08-29T18:42:46.787Z"
   },
   {
    "duration": 260,
    "start_time": "2024-08-29T18:42:47.039Z"
   },
   {
    "duration": 122,
    "start_time": "2024-08-29T18:42:47.301Z"
   },
   {
    "duration": 1621,
    "start_time": "2024-08-29T18:42:47.425Z"
   },
   {
    "duration": 127,
    "start_time": "2024-08-29T18:42:49.050Z"
   },
   {
    "duration": 19,
    "start_time": "2024-08-29T18:42:49.179Z"
   },
   {
    "duration": 20,
    "start_time": "2024-08-29T18:42:49.204Z"
   },
   {
    "duration": 115,
    "start_time": "2024-08-29T18:42:49.235Z"
   },
   {
    "duration": 202,
    "start_time": "2024-08-29T18:43:00.950Z"
   },
   {
    "duration": 103,
    "start_time": "2024-08-29T18:43:32.537Z"
   },
   {
    "duration": 84,
    "start_time": "2024-08-29T18:44:15.514Z"
   },
   {
    "duration": 4,
    "start_time": "2024-08-29T18:49:06.873Z"
   },
   {
    "duration": 38231,
    "start_time": "2024-08-29T18:49:26.564Z"
   },
   {
    "duration": 38535,
    "start_time": "2024-08-29T18:52:21.155Z"
   },
   {
    "duration": 41560,
    "start_time": "2024-08-29T18:53:30.095Z"
   },
   {
    "duration": 2749,
    "start_time": "2024-08-29T22:24:14.039Z"
   },
   {
    "duration": 455,
    "start_time": "2024-08-29T22:24:16.790Z"
   },
   {
    "duration": 13,
    "start_time": "2024-08-29T22:24:17.248Z"
   },
   {
    "duration": 73,
    "start_time": "2024-08-29T22:24:17.264Z"
   },
   {
    "duration": 99,
    "start_time": "2024-08-29T22:24:17.339Z"
   },
   {
    "duration": 55,
    "start_time": "2024-08-29T22:24:17.439Z"
   },
   {
    "duration": 101,
    "start_time": "2024-08-29T22:24:17.496Z"
   },
   {
    "duration": 228,
    "start_time": "2024-08-29T22:24:17.599Z"
   },
   {
    "duration": 233,
    "start_time": "2024-08-29T22:24:17.831Z"
   },
   {
    "duration": 287,
    "start_time": "2024-08-29T22:24:18.067Z"
   },
   {
    "duration": 90,
    "start_time": "2024-08-29T22:24:18.358Z"
   },
   {
    "duration": 1269,
    "start_time": "2024-08-29T22:24:18.450Z"
   },
   {
    "duration": 90,
    "start_time": "2024-08-29T22:24:19.721Z"
   },
   {
    "duration": 131,
    "start_time": "2024-08-29T22:24:19.813Z"
   },
   {
    "duration": 20,
    "start_time": "2024-08-29T22:24:19.946Z"
   },
   {
    "duration": 18,
    "start_time": "2024-08-29T22:24:19.968Z"
   },
   {
    "duration": 105,
    "start_time": "2024-08-29T22:24:19.988Z"
   },
   {
    "duration": 35766,
    "start_time": "2024-08-29T22:24:20.094Z"
   },
   {
    "duration": 569,
    "start_time": "2024-08-29T22:24:55.862Z"
   },
   {
    "duration": 278,
    "start_time": "2024-08-29T22:25:40.653Z"
   },
   {
    "duration": 35,
    "start_time": "2024-08-29T22:25:46.627Z"
   },
   {
    "duration": 744,
    "start_time": "2024-08-29T22:25:59.958Z"
   },
   {
    "duration": 5,
    "start_time": "2024-08-29T22:26:20.239Z"
   },
   {
    "duration": 35578,
    "start_time": "2024-08-29T22:26:52.315Z"
   },
   {
    "duration": 38809,
    "start_time": "2024-08-29T22:28:06.171Z"
   },
   {
    "duration": 39381,
    "start_time": "2024-08-29T22:29:14.456Z"
   },
   {
    "duration": 74,
    "start_time": "2024-08-29T22:31:44.908Z"
   },
   {
    "duration": 174,
    "start_time": "2024-08-29T22:33:14.800Z"
   },
   {
    "duration": 4,
    "start_time": "2024-08-29T22:33:46.776Z"
   },
   {
    "duration": 433,
    "start_time": "2024-08-29T22:33:46.782Z"
   },
   {
    "duration": 17,
    "start_time": "2024-08-29T22:33:47.217Z"
   },
   {
    "duration": 54,
    "start_time": "2024-08-29T22:33:47.235Z"
   },
   {
    "duration": 102,
    "start_time": "2024-08-29T22:33:47.292Z"
   },
   {
    "duration": 65,
    "start_time": "2024-08-29T22:33:47.395Z"
   },
   {
    "duration": 96,
    "start_time": "2024-08-29T22:33:47.462Z"
   },
   {
    "duration": 220,
    "start_time": "2024-08-29T22:33:47.560Z"
   },
   {
    "duration": 213,
    "start_time": "2024-08-29T22:33:47.782Z"
   },
   {
    "duration": 247,
    "start_time": "2024-08-29T22:33:47.997Z"
   },
   {
    "duration": 95,
    "start_time": "2024-08-29T22:33:48.246Z"
   },
   {
    "duration": 1200,
    "start_time": "2024-08-29T22:33:48.344Z"
   },
   {
    "duration": 112,
    "start_time": "2024-08-29T22:33:51.901Z"
   },
   {
    "duration": 4,
    "start_time": "2024-08-29T22:34:56.443Z"
   },
   {
    "duration": 365,
    "start_time": "2024-08-29T22:34:56.451Z"
   },
   {
    "duration": 10,
    "start_time": "2024-08-29T22:34:56.818Z"
   },
   {
    "duration": 54,
    "start_time": "2024-08-29T22:34:56.831Z"
   },
   {
    "duration": 110,
    "start_time": "2024-08-29T22:34:56.886Z"
   },
   {
    "duration": 67,
    "start_time": "2024-08-29T22:34:56.999Z"
   },
   {
    "duration": 103,
    "start_time": "2024-08-29T22:34:57.067Z"
   },
   {
    "duration": 198,
    "start_time": "2024-08-29T22:34:57.172Z"
   },
   {
    "duration": 207,
    "start_time": "2024-08-29T22:34:57.372Z"
   },
   {
    "duration": 247,
    "start_time": "2024-08-29T22:34:57.581Z"
   },
   {
    "duration": 100,
    "start_time": "2024-08-29T22:34:57.832Z"
   },
   {
    "duration": 1234,
    "start_time": "2024-08-29T22:34:57.934Z"
   },
   {
    "duration": 179,
    "start_time": "2024-08-29T22:34:59.170Z"
   },
   {
    "duration": 107,
    "start_time": "2024-08-29T22:35:09.894Z"
   },
   {
    "duration": 17,
    "start_time": "2024-08-29T22:35:25.700Z"
   },
   {
    "duration": 4,
    "start_time": "2024-08-29T22:35:40.314Z"
   },
   {
    "duration": 387,
    "start_time": "2024-08-29T22:35:40.329Z"
   },
   {
    "duration": 17,
    "start_time": "2024-08-29T22:35:40.718Z"
   },
   {
    "duration": 57,
    "start_time": "2024-08-29T22:35:40.737Z"
   },
   {
    "duration": 102,
    "start_time": "2024-08-29T22:35:40.796Z"
   },
   {
    "duration": 63,
    "start_time": "2024-08-29T22:35:40.901Z"
   },
   {
    "duration": 108,
    "start_time": "2024-08-29T22:35:40.966Z"
   },
   {
    "duration": 213,
    "start_time": "2024-08-29T22:35:41.076Z"
   },
   {
    "duration": 216,
    "start_time": "2024-08-29T22:35:41.291Z"
   },
   {
    "duration": 234,
    "start_time": "2024-08-29T22:35:41.508Z"
   },
   {
    "duration": 95,
    "start_time": "2024-08-29T22:35:41.744Z"
   },
   {
    "duration": 1222,
    "start_time": "2024-08-29T22:35:41.840Z"
   },
   {
    "duration": 203,
    "start_time": "2024-08-29T22:35:43.064Z"
   },
   {
    "duration": 117,
    "start_time": "2024-08-29T22:35:43.269Z"
   },
   {
    "duration": 16,
    "start_time": "2024-08-29T22:35:43.389Z"
   },
   {
    "duration": 83,
    "start_time": "2024-08-29T22:35:43.407Z"
   },
   {
    "duration": 133,
    "start_time": "2024-08-29T22:35:43.492Z"
   },
   {
    "duration": 13,
    "start_time": "2024-08-29T22:35:43.630Z"
   },
   {
    "duration": 17,
    "start_time": "2024-08-29T22:35:43.645Z"
   },
   {
    "duration": 103,
    "start_time": "2024-08-29T22:35:43.664Z"
   },
   {
    "duration": 80,
    "start_time": "2024-08-29T22:35:43.768Z"
   },
   {
    "duration": 35925,
    "start_time": "2024-08-29T22:35:43.850Z"
   },
   {
    "duration": 185,
    "start_time": "2024-08-29T22:36:19.780Z"
   },
   {
    "duration": 25545,
    "start_time": "2024-08-29T22:41:30.816Z"
   },
   {
    "duration": 47,
    "start_time": "2024-08-29T22:44:30.019Z"
   },
   {
    "duration": 47,
    "start_time": "2024-08-29T22:44:40.610Z"
   },
   {
    "duration": 66,
    "start_time": "2024-08-29T22:45:20.936Z"
   },
   {
    "duration": 4,
    "start_time": "2024-08-29T22:56:44.448Z"
   },
   {
    "duration": 384,
    "start_time": "2024-08-29T22:56:44.454Z"
   },
   {
    "duration": 12,
    "start_time": "2024-08-29T22:56:44.840Z"
   },
   {
    "duration": 57,
    "start_time": "2024-08-29T22:56:44.855Z"
   },
   {
    "duration": 104,
    "start_time": "2024-08-29T22:56:44.914Z"
   },
   {
    "duration": 63,
    "start_time": "2024-08-29T22:56:45.020Z"
   },
   {
    "duration": 99,
    "start_time": "2024-08-29T22:56:45.085Z"
   },
   {
    "duration": 197,
    "start_time": "2024-08-29T22:56:45.186Z"
   },
   {
    "duration": 209,
    "start_time": "2024-08-29T22:56:45.385Z"
   },
   {
    "duration": 244,
    "start_time": "2024-08-29T22:56:45.598Z"
   },
   {
    "duration": 96,
    "start_time": "2024-08-29T22:56:45.844Z"
   },
   {
    "duration": 1198,
    "start_time": "2024-08-29T22:56:45.942Z"
   },
   {
    "duration": 177,
    "start_time": "2024-08-29T22:56:47.141Z"
   },
   {
    "duration": 110,
    "start_time": "2024-08-29T22:56:47.321Z"
   },
   {
    "duration": 17,
    "start_time": "2024-08-29T22:56:47.433Z"
   },
   {
    "duration": 89,
    "start_time": "2024-08-29T22:56:47.452Z"
   },
   {
    "duration": 133,
    "start_time": "2024-08-29T22:56:47.543Z"
   },
   {
    "duration": 14,
    "start_time": "2024-08-29T22:56:47.678Z"
   },
   {
    "duration": 0,
    "start_time": "2024-08-29T22:56:47.694Z"
   },
   {
    "duration": 0,
    "start_time": "2024-08-29T22:56:47.695Z"
   },
   {
    "duration": 0,
    "start_time": "2024-08-29T22:56:47.696Z"
   },
   {
    "duration": 0,
    "start_time": "2024-08-29T22:56:47.698Z"
   },
   {
    "duration": 0,
    "start_time": "2024-08-29T22:56:47.699Z"
   },
   {
    "duration": 21,
    "start_time": "2024-08-29T22:56:57.462Z"
   },
   {
    "duration": 15,
    "start_time": "2024-08-29T22:57:07.662Z"
   },
   {
    "duration": 16,
    "start_time": "2024-08-29T22:57:09.036Z"
   },
   {
    "duration": 122,
    "start_time": "2024-08-29T22:57:31.639Z"
   },
   {
    "duration": 97,
    "start_time": "2024-08-29T22:58:37.412Z"
   },
   {
    "duration": 121,
    "start_time": "2024-08-29T22:58:41.118Z"
   },
   {
    "duration": 159,
    "start_time": "2024-08-29T22:58:45.565Z"
   },
   {
    "duration": 166,
    "start_time": "2024-08-29T22:59:34.668Z"
   },
   {
    "duration": 8,
    "start_time": "2024-08-29T22:59:40.058Z"
   },
   {
    "duration": 39,
    "start_time": "2024-08-29T23:00:13.392Z"
   },
   {
    "duration": 126,
    "start_time": "2024-08-29T23:00:14.976Z"
   },
   {
    "duration": 46,
    "start_time": "2024-08-29T23:00:21.087Z"
   },
   {
    "duration": 72,
    "start_time": "2024-08-29T23:00:24.055Z"
   },
   {
    "duration": 93,
    "start_time": "2024-08-29T23:00:29.954Z"
   },
   {
    "duration": 65,
    "start_time": "2024-08-29T23:00:33.324Z"
   },
   {
    "duration": 47,
    "start_time": "2024-08-29T23:00:39.415Z"
   },
   {
    "duration": 257,
    "start_time": "2024-08-29T23:00:43.275Z"
   },
   {
    "duration": 22,
    "start_time": "2024-08-29T23:03:01.947Z"
   },
   {
    "duration": 60,
    "start_time": "2024-08-29T23:06:41.058Z"
   },
   {
    "duration": 129,
    "start_time": "2024-08-29T23:06:57.245Z"
   },
   {
    "duration": 199,
    "start_time": "2024-08-29T23:07:30.147Z"
   },
   {
    "duration": 129,
    "start_time": "2024-08-29T23:07:40.062Z"
   },
   {
    "duration": 147,
    "start_time": "2024-08-29T23:08:06.615Z"
   },
   {
    "duration": 62,
    "start_time": "2024-08-29T23:08:07.713Z"
   },
   {
    "duration": 627,
    "start_time": "2024-08-29T23:08:11.330Z"
   },
   {
    "duration": 11,
    "start_time": "2024-08-29T23:08:14.513Z"
   },
   {
    "duration": 71,
    "start_time": "2024-08-29T23:08:22.769Z"
   },
   {
    "duration": 14,
    "start_time": "2024-08-29T23:11:34.222Z"
   },
   {
    "duration": 13,
    "start_time": "2024-08-29T23:11:37.209Z"
   },
   {
    "duration": 3,
    "start_time": "2024-08-29T23:11:41.495Z"
   },
   {
    "duration": 5,
    "start_time": "2024-08-29T23:12:36.833Z"
   },
   {
    "duration": 5,
    "start_time": "2024-08-29T23:13:03.163Z"
   },
   {
    "duration": 4,
    "start_time": "2024-08-29T23:13:29.221Z"
   },
   {
    "duration": 4,
    "start_time": "2024-08-29T23:13:34.988Z"
   },
   {
    "duration": 4,
    "start_time": "2024-08-29T23:13:39.387Z"
   },
   {
    "duration": 5,
    "start_time": "2024-08-29T23:13:47.833Z"
   },
   {
    "duration": 8,
    "start_time": "2024-08-29T23:13:55.858Z"
   },
   {
    "duration": 3,
    "start_time": "2024-08-29T23:15:22.791Z"
   },
   {
    "duration": 392,
    "start_time": "2024-08-29T23:15:22.796Z"
   },
   {
    "duration": 10,
    "start_time": "2024-08-29T23:15:23.190Z"
   },
   {
    "duration": 67,
    "start_time": "2024-08-29T23:15:23.203Z"
   },
   {
    "duration": 97,
    "start_time": "2024-08-29T23:15:23.273Z"
   },
   {
    "duration": 62,
    "start_time": "2024-08-29T23:15:23.372Z"
   },
   {
    "duration": 88,
    "start_time": "2024-08-29T23:15:23.435Z"
   },
   {
    "duration": 207,
    "start_time": "2024-08-29T23:15:23.531Z"
   },
   {
    "duration": 211,
    "start_time": "2024-08-29T23:15:23.740Z"
   },
   {
    "duration": 240,
    "start_time": "2024-08-29T23:15:23.954Z"
   },
   {
    "duration": 94,
    "start_time": "2024-08-29T23:15:24.196Z"
   },
   {
    "duration": 1372,
    "start_time": "2024-08-29T23:15:24.292Z"
   },
   {
    "duration": 227,
    "start_time": "2024-08-29T23:15:25.665Z"
   },
   {
    "duration": 107,
    "start_time": "2024-08-29T23:15:25.895Z"
   },
   {
    "duration": 28,
    "start_time": "2024-08-29T23:15:26.004Z"
   },
   {
    "duration": 63,
    "start_time": "2024-08-29T23:15:26.034Z"
   },
   {
    "duration": 155,
    "start_time": "2024-08-29T23:15:26.099Z"
   },
   {
    "duration": 140,
    "start_time": "2024-08-29T23:15:26.256Z"
   },
   {
    "duration": 4,
    "start_time": "2024-08-29T23:15:36.609Z"
   },
   {
    "duration": 195,
    "start_time": "2024-08-29T23:15:44.250Z"
   },
   {
    "duration": 129,
    "start_time": "2024-08-29T23:15:46.097Z"
   },
   {
    "duration": 149,
    "start_time": "2024-08-29T23:15:49.067Z"
   },
   {
    "duration": 62,
    "start_time": "2024-08-29T23:15:50.483Z"
   },
   {
    "duration": 600,
    "start_time": "2024-08-29T23:15:53.380Z"
   },
   {
    "duration": 4,
    "start_time": "2024-08-29T23:15:54.636Z"
   },
   {
    "duration": 273,
    "start_time": "2024-08-29T23:15:57.099Z"
   },
   {
    "duration": 79,
    "start_time": "2024-08-29T23:17:33.720Z"
   },
   {
    "duration": 568,
    "start_time": "2024-08-29T23:17:38.852Z"
   },
   {
    "duration": 1351,
    "start_time": "2024-08-29T23:17:42.172Z"
   },
   {
    "duration": 2,
    "start_time": "2024-08-29T23:24:39.603Z"
   },
   {
    "duration": 152,
    "start_time": "2024-08-29T23:27:20.963Z"
   },
   {
    "duration": 2711,
    "start_time": "2024-08-30T20:04:50.236Z"
   },
   {
    "duration": 477,
    "start_time": "2024-08-30T20:04:52.949Z"
   },
   {
    "duration": 14,
    "start_time": "2024-08-30T20:04:53.427Z"
   },
   {
    "duration": 69,
    "start_time": "2024-08-30T20:04:53.443Z"
   },
   {
    "duration": 95,
    "start_time": "2024-08-30T20:04:53.514Z"
   },
   {
    "duration": 54,
    "start_time": "2024-08-30T20:04:53.611Z"
   },
   {
    "duration": 107,
    "start_time": "2024-08-30T20:04:53.666Z"
   },
   {
    "duration": 224,
    "start_time": "2024-08-30T20:04:53.774Z"
   },
   {
    "duration": 232,
    "start_time": "2024-08-30T20:04:54.000Z"
   },
   {
    "duration": 269,
    "start_time": "2024-08-30T20:04:54.235Z"
   },
   {
    "duration": 102,
    "start_time": "2024-08-30T20:04:54.509Z"
   },
   {
    "duration": 2,
    "start_time": "2024-08-30T20:04:54.614Z"
   },
   {
    "duration": 177,
    "start_time": "2024-08-30T20:04:54.619Z"
   },
   {
    "duration": 114,
    "start_time": "2024-08-30T20:04:54.798Z"
   },
   {
    "duration": 18,
    "start_time": "2024-08-30T20:04:54.914Z"
   },
   {
    "duration": 108,
    "start_time": "2024-08-30T20:04:54.933Z"
   },
   {
    "duration": 192,
    "start_time": "2024-08-30T20:04:55.043Z"
   },
   {
    "duration": 123,
    "start_time": "2024-08-30T20:04:55.237Z"
   },
   {
    "duration": 3,
    "start_time": "2024-08-30T20:04:55.362Z"
   },
   {
    "duration": 214,
    "start_time": "2024-08-30T20:04:55.368Z"
   },
   {
    "duration": 154,
    "start_time": "2024-08-30T20:04:55.584Z"
   },
   {
    "duration": 173,
    "start_time": "2024-08-30T20:04:55.740Z"
   },
   {
    "duration": 56,
    "start_time": "2024-08-30T20:04:55.915Z"
   },
   {
    "duration": 602,
    "start_time": "2024-08-30T20:04:55.973Z"
   },
   {
    "duration": 4,
    "start_time": "2024-08-30T20:04:56.577Z"
   },
   {
    "duration": 1492,
    "start_time": "2024-08-30T20:05:27.332Z"
   },
   {
    "duration": 4,
    "start_time": "2024-08-30T20:07:27.370Z"
   },
   {
    "duration": 401,
    "start_time": "2024-08-30T20:07:27.377Z"
   },
   {
    "duration": 10,
    "start_time": "2024-08-30T20:07:27.780Z"
   },
   {
    "duration": 65,
    "start_time": "2024-08-30T20:07:27.792Z"
   },
   {
    "duration": 92,
    "start_time": "2024-08-30T20:07:27.859Z"
   },
   {
    "duration": 67,
    "start_time": "2024-08-30T20:07:27.953Z"
   },
   {
    "duration": 98,
    "start_time": "2024-08-30T20:07:28.021Z"
   },
   {
    "duration": 203,
    "start_time": "2024-08-30T20:07:28.121Z"
   },
   {
    "duration": 210,
    "start_time": "2024-08-30T20:07:28.326Z"
   },
   {
    "duration": 241,
    "start_time": "2024-08-30T20:07:28.538Z"
   },
   {
    "duration": 93,
    "start_time": "2024-08-30T20:07:28.781Z"
   },
   {
    "duration": 1289,
    "start_time": "2024-08-30T20:07:28.876Z"
   },
   {
    "duration": 84,
    "start_time": "2024-08-30T20:13:55.481Z"
   },
   {
    "duration": 83,
    "start_time": "2024-08-30T20:14:03.953Z"
   },
   {
    "duration": 116,
    "start_time": "2024-08-30T20:14:05.954Z"
   },
   {
    "duration": 113,
    "start_time": "2024-08-30T20:14:08.498Z"
   },
   {
    "duration": 3,
    "start_time": "2024-08-30T20:14:09.208Z"
   },
   {
    "duration": 206,
    "start_time": "2024-08-30T20:14:09.742Z"
   },
   {
    "duration": 111,
    "start_time": "2024-08-30T20:14:10.369Z"
   },
   {
    "duration": 168,
    "start_time": "2024-08-30T20:15:15.720Z"
   },
   {
    "duration": 29,
    "start_time": "2024-08-30T20:15:17.794Z"
   },
   {
    "duration": 4,
    "start_time": "2024-08-30T20:15:48.950Z"
   },
   {
    "duration": 367,
    "start_time": "2024-08-30T20:15:48.957Z"
   },
   {
    "duration": 10,
    "start_time": "2024-08-30T20:15:49.326Z"
   },
   {
    "duration": 71,
    "start_time": "2024-08-30T20:15:49.339Z"
   },
   {
    "duration": 101,
    "start_time": "2024-08-30T20:15:49.412Z"
   },
   {
    "duration": 55,
    "start_time": "2024-08-30T20:15:49.515Z"
   },
   {
    "duration": 97,
    "start_time": "2024-08-30T20:15:49.572Z"
   },
   {
    "duration": 215,
    "start_time": "2024-08-30T20:15:49.671Z"
   },
   {
    "duration": 211,
    "start_time": "2024-08-30T20:15:49.887Z"
   },
   {
    "duration": 239,
    "start_time": "2024-08-30T20:15:50.108Z"
   },
   {
    "duration": 90,
    "start_time": "2024-08-30T20:15:50.348Z"
   },
   {
    "duration": 1256,
    "start_time": "2024-08-30T20:15:50.440Z"
   },
   {
    "duration": 85,
    "start_time": "2024-08-30T20:15:51.699Z"
   },
   {
    "duration": 79,
    "start_time": "2024-08-30T20:15:51.786Z"
   },
   {
    "duration": 131,
    "start_time": "2024-08-30T20:15:51.868Z"
   },
   {
    "duration": 122,
    "start_time": "2024-08-30T20:15:52.010Z"
   },
   {
    "duration": 4,
    "start_time": "2024-08-30T20:15:52.133Z"
   },
   {
    "duration": 223,
    "start_time": "2024-08-30T20:15:52.138Z"
   },
   {
    "duration": 101,
    "start_time": "2024-08-30T20:15:52.363Z"
   },
   {
    "duration": 165,
    "start_time": "2024-08-30T20:15:52.466Z"
   },
   {
    "duration": 36,
    "start_time": "2024-08-30T20:16:12.807Z"
   },
   {
    "duration": 593,
    "start_time": "2024-08-30T20:16:41.929Z"
   },
   {
    "duration": 3,
    "start_time": "2024-08-30T20:16:42.790Z"
   },
   {
    "duration": 12302,
    "start_time": "2024-08-30T20:16:44.387Z"
   },
   {
    "duration": 9638,
    "start_time": "2024-08-30T20:18:09.789Z"
   },
   {
    "duration": 9614,
    "start_time": "2024-08-30T20:18:34.513Z"
   },
   {
    "duration": 18,
    "start_time": "2024-08-30T20:25:25.049Z"
   },
   {
    "duration": 3,
    "start_time": "2024-08-30T20:25:46.270Z"
   },
   {
    "duration": 11288,
    "start_time": "2024-08-30T20:25:49.644Z"
   },
   {
    "duration": 17,
    "start_time": "2024-08-30T20:30:29.688Z"
   },
   {
    "duration": 21,
    "start_time": "2024-08-30T20:30:33.830Z"
   },
   {
    "duration": 15,
    "start_time": "2024-08-30T20:30:37.390Z"
   },
   {
    "duration": 4,
    "start_time": "2024-08-30T20:31:05.369Z"
   },
   {
    "duration": 16,
    "start_time": "2024-08-30T20:31:08.310Z"
   },
   {
    "duration": 158,
    "start_time": "2024-08-30T20:32:42.770Z"
   },
   {
    "duration": 1052,
    "start_time": "2024-08-30T21:58:14.184Z"
   },
   {
    "duration": 5,
    "start_time": "2024-08-30T21:58:26.491Z"
   },
   {
    "duration": 467,
    "start_time": "2024-08-30T21:58:26.498Z"
   },
   {
    "duration": 13,
    "start_time": "2024-08-30T21:58:26.969Z"
   },
   {
    "duration": 66,
    "start_time": "2024-08-30T21:58:26.984Z"
   },
   {
    "duration": 98,
    "start_time": "2024-08-30T21:58:27.053Z"
   },
   {
    "duration": 70,
    "start_time": "2024-08-30T21:58:27.153Z"
   },
   {
    "duration": 103,
    "start_time": "2024-08-30T21:58:27.225Z"
   },
   {
    "duration": 225,
    "start_time": "2024-08-30T21:58:27.329Z"
   },
   {
    "duration": 237,
    "start_time": "2024-08-30T21:58:27.556Z"
   },
   {
    "duration": 271,
    "start_time": "2024-08-30T21:58:27.797Z"
   },
   {
    "duration": 95,
    "start_time": "2024-08-30T21:58:28.070Z"
   },
   {
    "duration": 1223,
    "start_time": "2024-08-30T21:58:28.167Z"
   },
   {
    "duration": 88,
    "start_time": "2024-08-30T21:58:29.392Z"
   },
   {
    "duration": 80,
    "start_time": "2024-08-30T21:58:29.481Z"
   },
   {
    "duration": 137,
    "start_time": "2024-08-30T21:58:29.563Z"
   },
   {
    "duration": 133,
    "start_time": "2024-08-30T21:58:29.702Z"
   },
   {
    "duration": 3,
    "start_time": "2024-08-30T21:58:29.837Z"
   },
   {
    "duration": 228,
    "start_time": "2024-08-30T21:58:29.841Z"
   },
   {
    "duration": 108,
    "start_time": "2024-08-30T21:58:30.071Z"
   },
   {
    "duration": 168,
    "start_time": "2024-08-30T21:58:30.181Z"
   },
   {
    "duration": 37,
    "start_time": "2024-08-30T21:58:30.351Z"
   },
   {
    "duration": 614,
    "start_time": "2024-08-30T21:58:30.390Z"
   },
   {
    "duration": 9712,
    "start_time": "2024-08-30T21:58:31.008Z"
   },
   {
    "duration": 996,
    "start_time": "2024-08-30T21:59:22.278Z"
   },
   {
    "duration": 477,
    "start_time": "2024-08-30T21:59:23.276Z"
   },
   {
    "duration": 14,
    "start_time": "2024-08-30T21:59:23.754Z"
   },
   {
    "duration": 99,
    "start_time": "2024-08-30T21:59:23.771Z"
   },
   {
    "duration": 98,
    "start_time": "2024-08-30T21:59:23.872Z"
   },
   {
    "duration": 65,
    "start_time": "2024-08-30T21:59:23.972Z"
   },
   {
    "duration": 93,
    "start_time": "2024-08-30T21:59:24.039Z"
   },
   {
    "duration": 245,
    "start_time": "2024-08-30T21:59:24.134Z"
   },
   {
    "duration": 238,
    "start_time": "2024-08-30T21:59:24.381Z"
   },
   {
    "duration": 279,
    "start_time": "2024-08-30T21:59:24.623Z"
   },
   {
    "duration": 90,
    "start_time": "2024-08-30T21:59:24.903Z"
   },
   {
    "duration": 1272,
    "start_time": "2024-08-30T21:59:24.994Z"
   },
   {
    "duration": 92,
    "start_time": "2024-08-30T21:59:26.267Z"
   },
   {
    "duration": 77,
    "start_time": "2024-08-30T21:59:26.361Z"
   },
   {
    "duration": 134,
    "start_time": "2024-08-30T21:59:26.440Z"
   },
   {
    "duration": 127,
    "start_time": "2024-08-30T21:59:26.576Z"
   },
   {
    "duration": 4,
    "start_time": "2024-08-30T21:59:26.705Z"
   },
   {
    "duration": 217,
    "start_time": "2024-08-30T21:59:26.712Z"
   },
   {
    "duration": 110,
    "start_time": "2024-08-30T21:59:26.930Z"
   },
   {
    "duration": 168,
    "start_time": "2024-08-30T21:59:27.042Z"
   },
   {
    "duration": 38,
    "start_time": "2024-08-30T21:59:27.212Z"
   },
   {
    "duration": 628,
    "start_time": "2024-08-30T21:59:27.252Z"
   },
   {
    "duration": 9759,
    "start_time": "2024-08-30T21:59:27.882Z"
   },
   {
    "duration": 161,
    "start_time": "2024-08-30T22:01:01.890Z"
   },
   {
    "duration": 1119,
    "start_time": "2024-08-30T22:01:49.416Z"
   },
   {
    "duration": 91,
    "start_time": "2024-08-30T22:01:55.658Z"
   },
   {
    "duration": 4,
    "start_time": "2024-08-30T22:02:03.323Z"
   },
   {
    "duration": 469,
    "start_time": "2024-08-30T22:02:03.331Z"
   },
   {
    "duration": 14,
    "start_time": "2024-08-30T22:02:03.803Z"
   },
   {
    "duration": 59,
    "start_time": "2024-08-30T22:02:03.819Z"
   },
   {
    "duration": 106,
    "start_time": "2024-08-30T22:02:03.879Z"
   },
   {
    "duration": 64,
    "start_time": "2024-08-30T22:02:03.988Z"
   },
   {
    "duration": 94,
    "start_time": "2024-08-30T22:02:04.053Z"
   },
   {
    "duration": 226,
    "start_time": "2024-08-30T22:02:04.149Z"
   },
   {
    "duration": 247,
    "start_time": "2024-08-30T22:02:04.377Z"
   },
   {
    "duration": 278,
    "start_time": "2024-08-30T22:02:04.626Z"
   },
   {
    "duration": 101,
    "start_time": "2024-08-30T22:02:04.908Z"
   },
   {
    "duration": 1235,
    "start_time": "2024-08-30T22:02:05.010Z"
   },
   {
    "duration": 91,
    "start_time": "2024-08-30T22:02:06.247Z"
   },
   {
    "duration": 73,
    "start_time": "2024-08-30T22:02:06.339Z"
   },
   {
    "duration": 132,
    "start_time": "2024-08-30T22:02:06.416Z"
   },
   {
    "duration": 124,
    "start_time": "2024-08-30T22:02:06.551Z"
   },
   {
    "duration": 3,
    "start_time": "2024-08-30T22:02:06.677Z"
   },
   {
    "duration": 216,
    "start_time": "2024-08-30T22:02:06.683Z"
   },
   {
    "duration": 108,
    "start_time": "2024-08-30T22:02:06.900Z"
   },
   {
    "duration": 163,
    "start_time": "2024-08-30T22:02:07.010Z"
   },
   {
    "duration": 51,
    "start_time": "2024-08-30T22:02:07.174Z"
   },
   {
    "duration": 631,
    "start_time": "2024-08-30T22:02:07.227Z"
   },
   {
    "duration": 9887,
    "start_time": "2024-08-30T22:02:07.859Z"
   },
   {
    "duration": 159,
    "start_time": "2024-08-30T22:04:06.764Z"
   },
   {
    "duration": 1102,
    "start_time": "2024-08-30T22:04:17.152Z"
   },
   {
    "duration": 458,
    "start_time": "2024-08-30T22:04:18.256Z"
   },
   {
    "duration": 13,
    "start_time": "2024-08-30T22:04:18.716Z"
   },
   {
    "duration": 80,
    "start_time": "2024-08-30T22:04:18.732Z"
   },
   {
    "duration": 95,
    "start_time": "2024-08-30T22:04:18.814Z"
   },
   {
    "duration": 57,
    "start_time": "2024-08-30T22:04:18.910Z"
   },
   {
    "duration": 105,
    "start_time": "2024-08-30T22:04:18.968Z"
   },
   {
    "duration": 221,
    "start_time": "2024-08-30T22:04:19.075Z"
   },
   {
    "duration": 236,
    "start_time": "2024-08-30T22:04:19.298Z"
   },
   {
    "duration": 280,
    "start_time": "2024-08-30T22:04:19.538Z"
   },
   {
    "duration": 94,
    "start_time": "2024-08-30T22:04:19.822Z"
   },
   {
    "duration": 1238,
    "start_time": "2024-08-30T22:04:19.918Z"
   },
   {
    "duration": 87,
    "start_time": "2024-08-30T22:04:21.157Z"
   },
   {
    "duration": 73,
    "start_time": "2024-08-30T22:04:21.246Z"
   },
   {
    "duration": 140,
    "start_time": "2024-08-30T22:04:21.321Z"
   },
   {
    "duration": 132,
    "start_time": "2024-08-30T22:04:21.464Z"
   },
   {
    "duration": 4,
    "start_time": "2024-08-30T22:04:21.597Z"
   },
   {
    "duration": 227,
    "start_time": "2024-08-30T22:04:21.602Z"
   },
   {
    "duration": 109,
    "start_time": "2024-08-30T22:04:21.831Z"
   },
   {
    "duration": 155,
    "start_time": "2024-08-30T22:04:21.942Z"
   },
   {
    "duration": 41,
    "start_time": "2024-08-30T22:04:22.099Z"
   },
   {
    "duration": 580,
    "start_time": "2024-08-30T22:04:22.142Z"
   },
   {
    "duration": 9990,
    "start_time": "2024-08-30T22:04:22.724Z"
   },
   {
    "duration": 161,
    "start_time": "2024-08-30T22:05:28.557Z"
   },
   {
    "duration": 1070,
    "start_time": "2024-08-30T22:05:34.989Z"
   },
   {
    "duration": 499,
    "start_time": "2024-08-30T22:05:36.061Z"
   },
   {
    "duration": 14,
    "start_time": "2024-08-30T22:05:36.562Z"
   },
   {
    "duration": 96,
    "start_time": "2024-08-30T22:05:36.579Z"
   },
   {
    "duration": 96,
    "start_time": "2024-08-30T22:05:36.677Z"
   },
   {
    "duration": 68,
    "start_time": "2024-08-30T22:05:36.774Z"
   },
   {
    "duration": 88,
    "start_time": "2024-08-30T22:05:36.844Z"
   },
   {
    "duration": 250,
    "start_time": "2024-08-30T22:05:36.934Z"
   },
   {
    "duration": 267,
    "start_time": "2024-08-30T22:05:37.186Z"
   },
   {
    "duration": 299,
    "start_time": "2024-08-30T22:05:37.455Z"
   },
   {
    "duration": 94,
    "start_time": "2024-08-30T22:05:37.755Z"
   },
   {
    "duration": 1280,
    "start_time": "2024-08-30T22:05:37.851Z"
   },
   {
    "duration": 89,
    "start_time": "2024-08-30T22:05:39.133Z"
   },
   {
    "duration": 71,
    "start_time": "2024-08-30T22:05:39.224Z"
   },
   {
    "duration": 140,
    "start_time": "2024-08-30T22:05:39.296Z"
   },
   {
    "duration": 123,
    "start_time": "2024-08-30T22:05:39.438Z"
   },
   {
    "duration": 4,
    "start_time": "2024-08-30T22:05:39.563Z"
   },
   {
    "duration": 263,
    "start_time": "2024-08-30T22:05:39.568Z"
   },
   {
    "duration": 107,
    "start_time": "2024-08-30T22:05:39.833Z"
   },
   {
    "duration": 163,
    "start_time": "2024-08-30T22:05:39.942Z"
   },
   {
    "duration": 36,
    "start_time": "2024-08-30T22:05:40.106Z"
   },
   {
    "duration": 602,
    "start_time": "2024-08-30T22:05:40.145Z"
   },
   {
    "duration": 10090,
    "start_time": "2024-08-30T22:05:40.749Z"
   },
   {
    "duration": 3,
    "start_time": "2024-08-30T22:06:00.596Z"
   },
   {
    "duration": 1042,
    "start_time": "2024-08-30T22:08:25.481Z"
   },
   {
    "duration": 458,
    "start_time": "2024-08-30T22:08:26.525Z"
   },
   {
    "duration": 14,
    "start_time": "2024-08-30T22:08:26.984Z"
   },
   {
    "duration": 55,
    "start_time": "2024-08-30T22:08:27.008Z"
   },
   {
    "duration": 99,
    "start_time": "2024-08-30T22:08:27.066Z"
   },
   {
    "duration": 75,
    "start_time": "2024-08-30T22:08:27.167Z"
   },
   {
    "duration": 104,
    "start_time": "2024-08-30T22:08:27.244Z"
   },
   {
    "duration": 232,
    "start_time": "2024-08-30T22:08:27.350Z"
   },
   {
    "duration": 237,
    "start_time": "2024-08-30T22:08:27.584Z"
   },
   {
    "duration": 268,
    "start_time": "2024-08-30T22:08:27.822Z"
   },
   {
    "duration": 94,
    "start_time": "2024-08-30T22:08:28.092Z"
   },
   {
    "duration": 1303,
    "start_time": "2024-08-30T22:08:28.188Z"
   },
   {
    "duration": 88,
    "start_time": "2024-08-30T22:08:29.493Z"
   },
   {
    "duration": 71,
    "start_time": "2024-08-30T22:08:29.585Z"
   },
   {
    "duration": 140,
    "start_time": "2024-08-30T22:08:29.658Z"
   },
   {
    "duration": 127,
    "start_time": "2024-08-30T22:08:29.800Z"
   },
   {
    "duration": 4,
    "start_time": "2024-08-30T22:08:29.928Z"
   },
   {
    "duration": 220,
    "start_time": "2024-08-30T22:08:29.934Z"
   },
   {
    "duration": 107,
    "start_time": "2024-08-30T22:08:30.157Z"
   },
   {
    "duration": 158,
    "start_time": "2024-08-30T22:08:30.266Z"
   },
   {
    "duration": 37,
    "start_time": "2024-08-30T22:08:30.426Z"
   },
   {
    "duration": 607,
    "start_time": "2024-08-30T22:08:30.465Z"
   },
   {
    "duration": 9842,
    "start_time": "2024-08-30T22:08:31.074Z"
   },
   {
    "duration": 10,
    "start_time": "2024-08-30T22:08:40.917Z"
   },
   {
    "duration": 82,
    "start_time": "2024-08-30T22:08:40.928Z"
   },
   {
    "duration": 248,
    "start_time": "2024-08-30T22:08:41.012Z"
   },
   {
    "duration": 0,
    "start_time": "2024-08-30T22:08:41.262Z"
   },
   {
    "duration": 13,
    "start_time": "2024-08-30T22:09:34.903Z"
   },
   {
    "duration": 4,
    "start_time": "2024-08-30T22:09:40.568Z"
   },
   {
    "duration": 377,
    "start_time": "2024-08-30T22:09:40.575Z"
   },
   {
    "duration": 11,
    "start_time": "2024-08-30T22:09:40.954Z"
   },
   {
    "duration": 70,
    "start_time": "2024-08-30T22:09:40.967Z"
   },
   {
    "duration": 93,
    "start_time": "2024-08-30T22:09:41.039Z"
   },
   {
    "duration": 54,
    "start_time": "2024-08-30T22:09:41.134Z"
   },
   {
    "duration": 101,
    "start_time": "2024-08-30T22:09:41.190Z"
   },
   {
    "duration": 204,
    "start_time": "2024-08-30T22:09:41.293Z"
   },
   {
    "duration": 217,
    "start_time": "2024-08-30T22:09:41.499Z"
   },
   {
    "duration": 247,
    "start_time": "2024-08-30T22:09:41.718Z"
   },
   {
    "duration": 93,
    "start_time": "2024-08-30T22:09:41.967Z"
   },
   {
    "duration": 1284,
    "start_time": "2024-08-30T22:09:42.062Z"
   },
   {
    "duration": 88,
    "start_time": "2024-08-30T22:09:43.348Z"
   },
   {
    "duration": 75,
    "start_time": "2024-08-30T22:09:43.438Z"
   },
   {
    "duration": 123,
    "start_time": "2024-08-30T22:09:43.515Z"
   },
   {
    "duration": 123,
    "start_time": "2024-08-30T22:09:43.640Z"
   },
   {
    "duration": 3,
    "start_time": "2024-08-30T22:09:43.765Z"
   },
   {
    "duration": 216,
    "start_time": "2024-08-30T22:09:43.771Z"
   },
   {
    "duration": 110,
    "start_time": "2024-08-30T22:09:43.989Z"
   },
   {
    "duration": 161,
    "start_time": "2024-08-30T22:09:44.110Z"
   },
   {
    "duration": 39,
    "start_time": "2024-08-30T22:09:44.273Z"
   },
   {
    "duration": 592,
    "start_time": "2024-08-30T22:09:44.314Z"
   },
   {
    "duration": 9910,
    "start_time": "2024-08-30T22:09:44.908Z"
   },
   {
    "duration": 3,
    "start_time": "2024-08-30T22:09:54.819Z"
   },
   {
    "duration": 1075,
    "start_time": "2024-09-02T17:57:02.317Z"
   },
   {
    "duration": 655,
    "start_time": "2024-09-02T17:57:03.397Z"
   },
   {
    "duration": 0,
    "start_time": "2024-09-02T17:57:04.056Z"
   },
   {
    "duration": 0,
    "start_time": "2024-09-02T17:57:04.057Z"
   },
   {
    "duration": 0,
    "start_time": "2024-09-02T17:57:04.058Z"
   },
   {
    "duration": 0,
    "start_time": "2024-09-02T17:57:04.060Z"
   },
   {
    "duration": 0,
    "start_time": "2024-09-02T17:57:04.061Z"
   },
   {
    "duration": 0,
    "start_time": "2024-09-02T17:57:04.070Z"
   },
   {
    "duration": 0,
    "start_time": "2024-09-02T17:57:04.071Z"
   },
   {
    "duration": 0,
    "start_time": "2024-09-02T17:57:04.073Z"
   },
   {
    "duration": 0,
    "start_time": "2024-09-02T17:57:04.075Z"
   },
   {
    "duration": 0,
    "start_time": "2024-09-02T17:57:04.076Z"
   },
   {
    "duration": 0,
    "start_time": "2024-09-02T17:57:04.077Z"
   },
   {
    "duration": 0,
    "start_time": "2024-09-02T17:57:04.078Z"
   },
   {
    "duration": 0,
    "start_time": "2024-09-02T17:57:04.079Z"
   },
   {
    "duration": 0,
    "start_time": "2024-09-02T17:57:04.080Z"
   },
   {
    "duration": 0,
    "start_time": "2024-09-02T17:57:04.081Z"
   },
   {
    "duration": 0,
    "start_time": "2024-09-02T17:57:04.082Z"
   },
   {
    "duration": 0,
    "start_time": "2024-09-02T17:57:04.084Z"
   },
   {
    "duration": 0,
    "start_time": "2024-09-02T17:57:04.085Z"
   },
   {
    "duration": 0,
    "start_time": "2024-09-02T17:57:04.086Z"
   },
   {
    "duration": 0,
    "start_time": "2024-09-02T17:57:04.088Z"
   },
   {
    "duration": 0,
    "start_time": "2024-09-02T17:57:04.089Z"
   },
   {
    "duration": 0,
    "start_time": "2024-09-02T17:57:04.090Z"
   },
   {
    "duration": 0,
    "start_time": "2024-09-02T17:57:04.092Z"
   },
   {
    "duration": 0,
    "start_time": "2024-09-02T17:57:04.093Z"
   },
   {
    "duration": 0,
    "start_time": "2024-09-02T17:57:04.094Z"
   },
   {
    "duration": 0,
    "start_time": "2024-09-02T17:57:04.099Z"
   },
   {
    "duration": 0,
    "start_time": "2024-09-02T17:57:04.101Z"
   },
   {
    "duration": 0,
    "start_time": "2024-09-02T17:57:04.102Z"
   },
   {
    "duration": 0,
    "start_time": "2024-09-02T17:57:04.103Z"
   },
   {
    "duration": 5,
    "start_time": "2024-09-02T17:57:14.013Z"
   },
   {
    "duration": 454,
    "start_time": "2024-09-02T17:57:14.020Z"
   },
   {
    "duration": 13,
    "start_time": "2024-09-02T17:57:14.476Z"
   },
   {
    "duration": 95,
    "start_time": "2024-09-02T17:57:14.490Z"
   },
   {
    "duration": 111,
    "start_time": "2024-09-02T17:57:14.589Z"
   },
   {
    "duration": 54,
    "start_time": "2024-09-02T17:57:14.702Z"
   },
   {
    "duration": 99,
    "start_time": "2024-09-02T17:57:14.758Z"
   },
   {
    "duration": 225,
    "start_time": "2024-09-02T17:57:14.859Z"
   },
   {
    "duration": 231,
    "start_time": "2024-09-02T17:57:15.086Z"
   },
   {
    "duration": 265,
    "start_time": "2024-09-02T17:57:15.319Z"
   },
   {
    "duration": 100,
    "start_time": "2024-09-02T17:57:15.586Z"
   },
   {
    "duration": 1325,
    "start_time": "2024-09-02T17:57:15.688Z"
   },
   {
    "duration": 93,
    "start_time": "2024-09-02T17:57:17.015Z"
   },
   {
    "duration": 77,
    "start_time": "2024-09-02T17:57:17.112Z"
   },
   {
    "duration": 131,
    "start_time": "2024-09-02T17:57:17.191Z"
   },
   {
    "duration": 127,
    "start_time": "2024-09-02T17:57:17.324Z"
   },
   {
    "duration": 3,
    "start_time": "2024-09-02T17:57:17.453Z"
   },
   {
    "duration": 216,
    "start_time": "2024-09-02T17:57:17.457Z"
   },
   {
    "duration": 102,
    "start_time": "2024-09-02T17:57:17.675Z"
   },
   {
    "duration": 158,
    "start_time": "2024-09-02T17:57:17.779Z"
   },
   {
    "duration": 44,
    "start_time": "2024-09-02T17:57:17.938Z"
   },
   {
    "duration": 3,
    "start_time": "2024-09-02T17:57:17.984Z"
   },
   {
    "duration": 582,
    "start_time": "2024-09-02T17:57:17.988Z"
   },
   {
    "duration": 10140,
    "start_time": "2024-09-02T17:57:18.571Z"
   }
  ],
  "kernelspec": {
   "display_name": "Python 3 (ipykernel)",
   "language": "python",
   "name": "python3"
  },
  "language_info": {
   "codemirror_mode": {
    "name": "ipython",
    "version": 3
   },
   "file_extension": ".py",
   "mimetype": "text/x-python",
   "name": "python",
   "nbconvert_exporter": "python",
   "pygments_lexer": "ipython3",
   "version": "3.12.2"
  },
  "toc": {
   "base_numbering": 1,
   "nav_menu": {},
   "number_sections": true,
   "sideBar": true,
   "skip_h1_title": true,
   "title_cell": "Table of Contents",
   "title_sidebar": "Contents",
   "toc_cell": false,
   "toc_position": {},
   "toc_section_display": true,
   "toc_window_display": false
  }
 },
 "nbformat": 4,
 "nbformat_minor": 2
}
